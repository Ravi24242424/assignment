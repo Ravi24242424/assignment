{
 "cells": [
  {
   "cell_type": "markdown",
   "id": "aeae607a-f91c-49f5-b18a-d5ed3dd12d84",
   "metadata": {},
   "source": [
    "Q1. What is Abstraction in OOps? Explain with an example."
   ]
  },
  {
   "cell_type": "code",
   "execution_count": 1,
   "id": "a5e52b4d-172d-428c-a02f-18a3c0c17e10",
   "metadata": {},
   "outputs": [
    {
     "data": {
      "text/plain": [
       "(('details', 'add'), ('python', 'javascript'))"
      ]
     },
     "execution_count": 1,
     "metadata": {},
     "output_type": "execute_result"
    }
   ],
   "source": [
    "# Abstraction is a concept in which we store data and hide according to importance and store in one place and give access according to it\n",
    "# Example:-\n",
    "class student:\n",
    "    def __init__(self):\n",
    "        self.name = \"Ravi prakash\"\n",
    "        \n",
    "    def about(self):\n",
    "        self.__details = \"details\"\n",
    "        self.__add = \"add\"\n",
    "        return (self.__details,self.__add)\n",
    "    \n",
    "    def skills(self):\n",
    "        self.__python = \"python\"\n",
    "        self.__javascript = \"javascript\"\n",
    "        return(self.__python, self.__javascript)\n",
    "\n",
    "\n",
    "obj = student()\n",
    "obj.about(),obj.skills()"
   ]
  },
  {
   "cell_type": "markdown",
   "id": "62e17a4b-60f1-41a8-82ba-963811762478",
   "metadata": {},
   "source": [
    "Q2. Differentiate between Abstraction and Encapsulation. Explain with an example."
   ]
  },
  {
   "cell_type": "code",
   "execution_count": 4,
   "id": "f4d87211-def8-4b23-8a71-1a890088a0ba",
   "metadata": {},
   "outputs": [
    {
     "data": {
      "text/plain": [
       "(('details', 'add'), ('python', 'javascript'), 'details')"
      ]
     },
     "execution_count": 4,
     "metadata": {},
     "output_type": "execute_result"
    }
   ],
   "source": [
    "\"\"\"main defference between Abstraction and Encapsulation is in Abstraction data store in one palace but In Encapsulation we hide all data and \n",
    "give access to a particular data.\"\"\"\n",
    "# example1\n",
    "class student:\n",
    "    def __init__(self):\n",
    "        self.name = \"Ravi prakash\"\n",
    "        \n",
    "    def about(self):\n",
    "        self.__details = \"details\"\n",
    "        self.__add = \"add\"\n",
    "        return (self.__details,self.__add)\n",
    "    \n",
    "    def skills(self):\n",
    "        self.__python = \"python\"\n",
    "        self.__javascript = \"javascript\"\n",
    "        return(self.__python, self.__javascript)\n",
    "    # Encasulation \n",
    "    def details_access(self):\n",
    "        return self.__details\n",
    "\n",
    "\n",
    "obj = student()\n",
    "obj.about(),obj.skills(), obj.details_access()"
   ]
  },
  {
   "cell_type": "markdown",
   "id": "aa6bf120-c631-49a7-bedd-54872752c6fe",
   "metadata": {},
   "source": [
    "Q3. What is abc module in python? Why is it used?"
   ]
  },
  {
   "cell_type": "markdown",
   "id": "1f6dbbf3-d213-4e44-9249-9ec7c6979d63",
   "metadata": {},
   "source": [
    "abc module means Abstract Base Classes this is a frameworks which gives us a necessary tools to create an abstract base class this is used to create\n",
    "subclass in any class which is create using ABCMeta metaclass this give a register function we can register name"
   ]
  },
  {
   "cell_type": "markdown",
   "id": "73637779-3ce3-4cee-a46c-3dc982361737",
   "metadata": {},
   "source": [
    "Q4. How can we achieve data abstraction?"
   ]
  },
  {
   "cell_type": "code",
   "execution_count": 8,
   "id": "a63b717e-ee12-4749-8742-4409003a2a2f",
   "metadata": {},
   "outputs": [
    {
     "name": "stdout",
     "output_type": "stream",
     "text": [
      "Data science\n",
      "Web Dev\n",
      "Java Dsa\n"
     ]
    }
   ],
   "source": [
    "# Data abstraction is achieve by the using abstract class and inherting them later.\n",
    "from abc import ABC, abstractmethod\n",
    "class person(ABC):\n",
    "    \n",
    "    @abstractmethod\n",
    "    def course(self):\n",
    "        pass\n",
    "    \n",
    "class stud1(person):\n",
    "    def course(self):\n",
    "        print(\"Data science\")\n",
    "        \n",
    "class stud2(person):\n",
    "    def course(self):\n",
    "        print(\"Web Dev\")\n",
    "        \n",
    "class stud3(person):\n",
    "    def course(self):\n",
    "        print(\"Java Dsa\")\n",
    "    \n",
    "obj = stud1()\n",
    "obj.course()\n",
    "\n",
    "obj = stud2()\n",
    "obj.course()\n",
    "\n",
    "obj = stud3()\n",
    "obj.course()"
   ]
  },
  {
   "cell_type": "markdown",
   "id": "6375a3ba-0aff-453e-aa42-8692bd0f486c",
   "metadata": {},
   "source": [
    "Q5. Can we create an instance of an abstract class? Explain your answer."
   ]
  },
  {
   "cell_type": "code",
   "execution_count": 11,
   "id": "0c63efaf-1c84-487f-b063-3d5cef73cac5",
   "metadata": {},
   "outputs": [
    {
     "name": "stdout",
     "output_type": "stream",
     "text": [
      "True\n"
     ]
    }
   ],
   "source": [
    "# yes we can ceate an instance of an abstract class.\n",
    "# Example\n",
    "from abc import ABC\n",
    "# Here i create a abstract class\n",
    "class abstract(ABC):\n",
    "    pass\n",
    "# here i create a instance and using register function i bind it to Abstract\n",
    "class obj(object):\n",
    "    pass\n",
    "\n",
    "abstract.register(obj)\n",
    "# let me check create or not\n",
    "print(issubclass(obj, abstract))"
   ]
  },
  {
   "cell_type": "code",
   "execution_count": null,
   "id": "de81cf06-2768-46a8-ad44-a0a683b12083",
   "metadata": {},
   "outputs": [],
   "source": []
  }
 ],
 "metadata": {
  "kernelspec": {
   "display_name": "Python 3 (ipykernel)",
   "language": "python",
   "name": "python3"
  },
  "language_info": {
   "codemirror_mode": {
    "name": "ipython",
    "version": 3
   },
   "file_extension": ".py",
   "mimetype": "text/x-python",
   "name": "python",
   "nbconvert_exporter": "python",
   "pygments_lexer": "ipython3",
   "version": "3.10.8"
  }
 },
 "nbformat": 4,
 "nbformat_minor": 5
}
