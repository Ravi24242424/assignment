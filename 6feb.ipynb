{
 "cells": [
  {
   "cell_type": "code",
   "execution_count": null,
   "id": "3f6a7216-ae14-4d8c-8ffa-6866c7f39ce6",
   "metadata": {},
   "outputs": [],
   "source": [
    "Q1. Create a function which will take a list as an argument and return the product of all the numbers\n",
    "after creating a flat list.\n",
    "\n",
    "Use the below-given list as an argument for your function.\n",
    "\n",
    "list1 = [1,2,3,4, [44,55,66, True], False, (34,56,78,89,34), {1,2,3,3,2,1}, {1:34, \"key2\": [55, 67, 78, 89], 4: (45,\n",
    "22, 61, 34)}, [56, 'data science'], 'Machine Learning']\n",
    "\n",
    "Note: you must extract numeric keys and values of the dictionary also."
   ]
  },
  {
   "cell_type": "code",
   "execution_count": 1,
   "id": "510b8a39-afa8-4d09-97b7-e20642c9f640",
   "metadata": {},
   "outputs": [],
   "source": [
    "list1 = [1,2,3,4, [44,55,66, True], False, (34,56,78,89,34), \n",
    "         {1,2,3,3,2,1},\n",
    "         {1:34, \"key2\": [55, 67, 78, 89], 4: (45,22, 61, 34)},\n",
    "         [56, 'data science'], 'Machine Learning']"
   ]
  },
  {
   "cell_type": "code",
   "execution_count": 16,
   "id": "edf0192e-d94d-4be2-aa2f-47881a7a77eb",
   "metadata": {},
   "outputs": [
    {
     "name": "stdout",
     "output_type": "stream",
     "text": [
      "Flat list= [1, 2, 3, 4, 44, 55, 66, 34, 56, 78, 89, 34, 1, 2, 3, 1, 4, 34, 55, 67, 78, 89, 45, 22, 61, 34, 56]\n"
     ]
    },
    {
     "data": {
      "text/plain": [
       "'pruduct of all the numbers are 4134711838987085478833841242112000'"
      ]
     },
     "execution_count": 16,
     "metadata": {},
     "output_type": "execute_result"
    }
   ],
   "source": [
    "def product(list1):\n",
    "    l2 = []\n",
    "\n",
    "    for i in list1:\n",
    "        if type(i) == int:\n",
    "            l2.append(i)\n",
    "        elif type(i) == list or type(i) == tuple or type(i) == set:\n",
    "            for j in i:\n",
    "                if type(j) == int:\n",
    "                    l2.append(j)\n",
    "\n",
    "        elif type(i) == dict:\n",
    "            for k in i:\n",
    "                if type(k) == int:\n",
    "                    l2.append(k)\n",
    "\n",
    "            for k in i.values():\n",
    "                if type(k) == int:\n",
    "                    l2.append(k)\n",
    "                elif type(k) == tuple:\n",
    "                    for l in k:\n",
    "                        if type(l) == int:\n",
    "                            l2.append(l)\n",
    "                elif type(k) == list :\n",
    "                    for m in k:\n",
    "                        if type(m) == int:\n",
    "                            l2.append(m)\n",
    "    print(\"Flat list=\",l2)\n",
    "    from functools import reduce\n",
    "    return \"pruduct of all the numbers are \"+ str(reduce(lambda x , y : x*y, l2))\n",
    "\n",
    "# final Answer\n",
    "product(list1)"
   ]
  },
  {
   "cell_type": "code",
   "execution_count": null,
   "id": "70276683-e7c0-4fd9-8f16-d9b6d5faeebe",
   "metadata": {},
   "outputs": [],
   "source": [
    "Q2. Write a python program for encrypting a message sent to you by your friend. The logic of encryption\n",
    "should be such that, for a the output should be z. For b, the output should be y. For c, the output should\n",
    "be x respectively. Also, the whitespace should be replaced with a dollar sign. Keep the punctuation\n",
    "marks unchanged.\n",
    "\n",
    "Input Sentence: I want to become a Data Scientist.\n",
    "\n",
    "Encrypt the above input sentence using the program you just created.\n",
    "\n",
    "Note: Convert the given input sentence into lowercase before encrypting. The final output should be\n",
    "lowercase."
   ]
  },
  {
   "cell_type": "code",
   "execution_count": 150,
   "id": "5527492c-20b8-4147-9ec2-94a425714788",
   "metadata": {},
   "outputs": [
    {
     "data": {
      "text/plain": [
       "'Encypted message are = r$dzmg$gl$yvxlnv$z$wzgz$hxrvmgrhg.'"
      ]
     },
     "execution_count": 150,
     "metadata": {},
     "output_type": "execute_result"
    }
   ],
   "source": [
    "l1 = \"I want to become a Data Scientist.\"\n",
    "def encrypt(l):\n",
    "    encrypted_msg = \"\"\n",
    "    alphabet = \"abcdefghijklmnopqrstuvwxyz\"\n",
    "    encrypt = alphabet[::-1]\n",
    "    l = l.lower()\n",
    "    for i in l :\n",
    "        if i == \" \":\n",
    "            encrypted_msg += \"$\"\n",
    "        elif i in alphabet:\n",
    "            n = alphabet.index(i)\n",
    "            encrypted_msg += encrypt[n]\n",
    "        else :\n",
    "            encrypted_msg += i\n",
    "            \n",
    "    return \"Encypted message are = \"+encrypted_msg\n",
    "encrypt(l1)"
   ]
  },
  {
   "cell_type": "code",
   "execution_count": 151,
   "id": "076ae9d0-0c3e-42ff-a311-db272230a5bf",
   "metadata": {},
   "outputs": [
    {
     "data": {
      "text/plain": [
       "'Encypted message are = i$want$to$become$a$data$scientist.'"
      ]
     },
     "execution_count": 151,
     "metadata": {},
     "output_type": "execute_result"
    }
   ],
   "source": [
    "encrypt(\"r$dzmg$gl$yvxlnv$z$wzgz$hxrvmgrhg.\")"
   ]
  },
  {
   "cell_type": "code",
   "execution_count": null,
   "id": "eaea1038-663e-4b49-a92c-57ab0350567e",
   "metadata": {},
   "outputs": [],
   "source": []
  }
 ],
 "metadata": {
  "kernelspec": {
   "display_name": "Python 3 (ipykernel)",
   "language": "python",
   "name": "python3"
  },
  "language_info": {
   "codemirror_mode": {
    "name": "ipython",
    "version": 3
   },
   "file_extension": ".py",
   "mimetype": "text/x-python",
   "name": "python",
   "nbconvert_exporter": "python",
   "pygments_lexer": "ipython3",
   "version": "3.10.8"
  }
 },
 "nbformat": 4,
 "nbformat_minor": 5
}
