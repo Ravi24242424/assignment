{
 "cells": [
  {
   "cell_type": "markdown",
   "id": "f49fd044-ca15-43b8-bc53-453383d9815c",
   "metadata": {},
   "source": [
    "Q1, Create a vehicle class with an init method having instance variables as name_of_vehicle, max_speed\n",
    "and average_of_vehicle."
   ]
  },
  {
   "cell_type": "code",
   "execution_count": 7,
   "id": "cd0dd262-70c6-43df-a2a2-d2b41dc3ab80",
   "metadata": {},
   "outputs": [],
   "source": [
    "class vehicle:\n",
    "    \n",
    "    def __init__(self, name_of_vehicle , max_speed, average_of_vehicle ):\n",
    "        self.name_of_vehicle = name_of_vehicle\n",
    "        self.max_speed = max_speed\n",
    "        self.average_of_vehicle = average_of_vehicle\n",
    "        \n",
    "    def vehicle_information(self):\n",
    "        return(self.name_of_vehicle,self.max_speed, self.average_of_vehicle)"
   ]
  },
  {
   "cell_type": "markdown",
   "id": "147bced4-00a2-40ad-9d0b-f6ade22aa0e3",
   "metadata": {},
   "source": [
    "Q2. Create a child class car from the vehicle class created in Que 1, which will inherit the vehicle class.\n",
    "Create a method named seating_capacity which takes capacity as an argument and returns the name of\n",
    "the vehicle and its seating capacity."
   ]
  },
  {
   "cell_type": "code",
   "execution_count": 22,
   "id": "91ee9459-56fd-4037-8b4b-0692c0fa1457",
   "metadata": {},
   "outputs": [
    {
     "name": "stdout",
     "output_type": "stream",
     "text": [
      "BMW Have 3 Seating Capacity \n"
     ]
    }
   ],
   "source": [
    "\"\"\"Create a child class car from the vehicle class created in Que 1, which will inherit the vehicle class.\"\"\"\n",
    "# class vehicle :\n",
    "    \n",
    "#     def __init__(self, name_of_vehicle , max_speed, average_of_vehicle ):\n",
    "#         self.name_of_vehicle = name_of_vehicle\n",
    "#         self.max_speed = max_speed\n",
    "#         self.average_of_vehicle = average_of_vehicle\n",
    "        \n",
    "class child (vehicle) :\n",
    "    def seating_capacity(self, capacity):\n",
    "        return self.name_of_vehicle + \" Have \"+ str(capacity) + \" Seating Capacity \"\n",
    "    \n",
    "    \n",
    "obj = child(\"BMW\", 233, 234)\n",
    "print(obj.seating_capacity(3))"
   ]
  },
  {
   "cell_type": "markdown",
   "id": "168f7b31-87aa-4865-8197-b283ade274f5",
   "metadata": {},
   "source": [
    "Q3. What is multiple inheritance? Write a python code to demonstrate multiple inheritance."
   ]
  },
  {
   "cell_type": "code",
   "execution_count": 26,
   "id": "9a5136c1-fa11-45cc-9edb-dfe9f713eeca",
   "metadata": {},
   "outputs": [
    {
     "name": "stdout",
     "output_type": "stream",
     "text": [
      "Inherit from class1\n",
      "Inherit from class2\n"
     ]
    }
   ],
   "source": [
    "# Ans :> multiple inheritance means a class which is inherit form differnt class into one class at same time.\n",
    "# Code\n",
    "class class1:\n",
    "  \n",
    "    def test1():\n",
    "        print(\"Inherit from class1\")\n",
    "        \n",
    "class class2:\n",
    "    \n",
    "    def test2():\n",
    "        print(\"Inherit from class2\")\n",
    "        \n",
    "# Now Multiple inheritance\n",
    "class Multiple_inheritance(class1, class2):\n",
    "    pass\n",
    "Multiple_inheritance.test1()\n",
    "Multiple_inheritance.test2()\n"
   ]
  },
  {
   "cell_type": "markdown",
   "id": "9e21b284-b566-482f-b6ec-42c95c00e762",
   "metadata": {},
   "source": [
    "Q4. What are getter and setter in python? Create a class and create a getter and a setter method in this\n",
    "class."
   ]
  },
  {
   "cell_type": "code",
   "execution_count": 7,
   "id": "e66b109e-cfb0-40e6-ad4c-a326e029c01c",
   "metadata": {},
   "outputs": [
    {
     "data": {
      "text/plain": [
       "(2, 3)"
      ]
     },
     "execution_count": 7,
     "metadata": {},
     "output_type": "execute_result"
    }
   ],
   "source": [
    "\"\"\"which is give access of the private or protected data called getter\n",
    "which is give access for the modify to the private or protected data after getter is called setter.\"\"\"\n",
    "\n",
    "class example :\n",
    "    \n",
    "    def __init__(self, first , second):\n",
    "        self.__first = first\n",
    "        self.__second = second\n",
    "        \n",
    "        \n",
    "    @property \n",
    "    # getter\n",
    "    def privateData_access(self):\n",
    "        return self.__first,self.__second\n",
    "    \n",
    "    # setter\n",
    "    @privateData_access.setter\n",
    "    def modify(self,second):\n",
    "        self.__second = second\n",
    "        return self.__second\n",
    "    \n",
    "example1 = example(2,2)\n",
    "example1.modify = 3\n",
    "example1.privateData_access"
   ]
  },
  {
   "cell_type": "markdown",
   "id": "2bff4456-a697-4a4d-a26c-03c3e2ec3d51",
   "metadata": {},
   "source": [
    "Q5.What is method overriding in python? Write a python code to demonstrate method overriding."
   ]
  },
  {
   "cell_type": "code",
   "execution_count": 25,
   "id": "05141feb-8913-40ff-bd3c-67fa06760440",
   "metadata": {},
   "outputs": [
    {
     "data": {
      "text/plain": [
       "('creating subclass of main class1', 'creating again subclass of main class 2')"
      ]
     },
     "execution_count": 25,
     "metadata": {},
     "output_type": "execute_result"
    }
   ],
   "source": [
    "\"\"\"method overriding is a feature of Oops thats allow to create subclass of the class which is already in a class and this is extend of use this is used\n",
    "deifferent class which give different output\"\"\"\n",
    "\n",
    "# Code\n",
    "class overriding:\n",
    "    def main(self):\n",
    "        pass\n",
    "    \n",
    "class first(overriding):\n",
    "    def __init__(self, first):\n",
    "        self.first = first\n",
    "        \n",
    "    def main(self):\n",
    "        return \"creating subclass of main class\"+  self.first\n",
    "    \n",
    "class second(overriding):\n",
    "    def __init__(self, second):\n",
    "        self.second = second\n",
    "        \n",
    "    def main(self):\n",
    "        return \"creating again subclass of main class \" + self.second\n",
    "    \n",
    "obj1 = first(\"1\")\n",
    "obj2 = second(\"2\")\n",
    "obj1.main(),obj2.main()\n"
   ]
  },
  {
   "cell_type": "code",
   "execution_count": null,
   "id": "db05279e-e248-4781-b693-3e0eef440938",
   "metadata": {},
   "outputs": [],
   "source": []
  },
  {
   "cell_type": "code",
   "execution_count": null,
   "id": "60a3446b-bb36-4695-bc34-37962b143eb2",
   "metadata": {},
   "outputs": [],
   "source": []
  }
 ],
 "metadata": {
  "kernelspec": {
   "display_name": "Python 3 (ipykernel)",
   "language": "python",
   "name": "python3"
  },
  "language_info": {
   "codemirror_mode": {
    "name": "ipython",
    "version": 3
   },
   "file_extension": ".py",
   "mimetype": "text/x-python",
   "name": "python",
   "nbconvert_exporter": "python",
   "pygments_lexer": "ipython3",
   "version": "3.10.8"
  }
 },
 "nbformat": 4,
 "nbformat_minor": 5
}
