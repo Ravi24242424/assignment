{
 "cells": [
  {
   "cell_type": "markdown",
   "id": "24249a0c-3780-47a3-b117-d0810463f6f0",
   "metadata": {},
   "source": [
    "Q1. Explain Class and Object with respect to Object-Oriented Programming. Give a suitable example."
   ]
  },
  {
   "cell_type": "code",
   "execution_count": null,
   "id": "875ab4a7-d7af-4bcf-89bc-bcb09aabdce4",
   "metadata": {},
   "outputs": [],
   "source": [
    "\"\"\"class is like a skeleton or blueprint which is  identify the real-world entity but not a specific in object-oriented programming.\n",
    "example:\n",
    "    animals, car, bird\n",
    "Objet is a real-world entity which is specify a real world entity in object- Orinted Programing.\n",
    "example:\n",
    "    dog,BMW,parrot\n",
    "\"\"\"\n"
   ]
  },
  {
   "cell_type": "markdown",
   "id": "a2b5c097-f7ba-4ce7-bfe2-c1af1ce6cf7f",
   "metadata": {},
   "source": [
    "Q2. Name the four pillars of OOPs.\n",
    "Ans:-  Polymorphism,Encapsulation,Inheritance,Abstraction."
   ]
  },
  {
   "cell_type": "markdown",
   "id": "46ad1503-8826-4115-b002-a2fdef743077",
   "metadata": {},
   "source": [
    "Q3. Explain why the __init__() function is used. Give a suitable example.\n",
    "Ans:- "
   ]
  },
  {
   "cell_type": "code",
   "execution_count": 17,
   "id": "88a70bbe-8ddb-478b-b717-8250025349e7",
   "metadata": {},
   "outputs": [
    {
     "data": {
      "text/plain": [
       "('Ravi', 12, 18)"
      ]
     },
     "execution_count": 17,
     "metadata": {},
     "output_type": "execute_result"
    }
   ],
   "source": [
    "# __init__() is a in built function which is used to pass data in the class.\n",
    "# Example:\n",
    "class data():\n",
    "    def __init__(self, Name, classs, age):\n",
    "        self.Name = Name\n",
    "        self.classs = classs\n",
    "        self.age = age\n",
    "    def data_details(self):\n",
    "        return self.Name, self.classs, self.age\n",
    "ravi = data(\"Ravi\", 12, 18)   \n",
    "ravi.data_details()"
   ]
  },
  {
   "cell_type": "markdown",
   "id": "808f235d-c9d4-4754-a33e-d7326f0d037f",
   "metadata": {},
   "source": [
    "Q4. Why self is used in OOPs?"
   ]
  },
  {
   "cell_type": "code",
   "execution_count": null,
   "id": "cd9967bd-c952-4008-9f24-a1a09cce1d74",
   "metadata": {},
   "outputs": [],
   "source": [
    "# Ans:> self is used for bind the variable to class and for access the varible of the class."
   ]
  },
  {
   "cell_type": "markdown",
   "id": "5b9c1817-a91f-4552-a369-3fd827eea3fd",
   "metadata": {},
   "source": [
    "Q5. What is inheritance? Give an example for each type of inheritance."
   ]
  },
  {
   "cell_type": "code",
   "execution_count": 56,
   "id": "6defa729-1e44-45f4-8bd8-0ca2ea89d899",
   "metadata": {},
   "outputs": [
    {
     "name": "stdout",
     "output_type": "stream",
     "text": [
      "<__main__.data object at 0x7fcd3d57dff0>\n"
     ]
    }
   ],
   "source": [
    "# inheritance which is help us to define a class that inherits all the methods and properties from another class.\n",
    "# type of inheritance\n",
    "# 1. parent class :- the class which inherited form same class.\n",
    "# example\n",
    "class data():\n",
    "    def __init__(self, Name, classs, age):\n",
    "        self.Name = Name\n",
    "        self.classs = classs\n",
    "        self.age = age\n",
    "    def data_details(self):\n",
    "        return self.Name, self.classs, self.age\n",
    "ravi = data(\"Ravi\", 12, 18)   \n",
    "ravi.data_details()\n",
    "# 2. child class :- the class which inherits from another class\n",
    "# example\n",
    "# class ravi(data):\n",
    "#     print(ravi)\n",
    "    "
   ]
  },
  {
   "cell_type": "code",
   "execution_count": null,
   "id": "1027f4c0-45ec-49cf-a0be-23f2bb8512ad",
   "metadata": {},
   "outputs": [],
   "source": []
  }
 ],
 "metadata": {
  "kernelspec": {
   "display_name": "Python 3 (ipykernel)",
   "language": "python",
   "name": "python3"
  },
  "language_info": {
   "codemirror_mode": {
    "name": "ipython",
    "version": 3
   },
   "file_extension": ".py",
   "mimetype": "text/x-python",
   "name": "python",
   "nbconvert_exporter": "python",
   "pygments_lexer": "ipython3",
   "version": "3.10.8"
  }
 },
 "nbformat": 4,
 "nbformat_minor": 5
}
