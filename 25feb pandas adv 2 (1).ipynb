{
 "cells": [
  {
   "cell_type": "code",
   "execution_count": 2,
   "id": "69dd894b-fb6b-4bdd-9144-01ad22cb97bc",
   "metadata": {},
   "outputs": [],
   "source": [
    "import pandas as pd\n",
    "course_name = ['Data Science', 'Machine Learning', 'Big Data', 'Data Engineer']\n",
    "duration = [2,3,6,4]\n",
    "df = pd.DataFrame(data = {'course_name' : course_name, 'duration' : duration})"
   ]
  },
  {
   "cell_type": "markdown",
   "id": "9b2ec87a-7506-480b-b791-3a467e7a1ce6",
   "metadata": {},
   "source": [
    "# Q1. Write a code to print the data present in the second row of the dataframe, df."
   ]
  },
  {
   "cell_type": "code",
   "execution_count": 52,
   "id": "e07270a5-c7a9-4f5c-bb54-7e847699cde0",
   "metadata": {},
   "outputs": [
    {
     "data": {
      "text/html": [
       "<div>\n",
       "<style scoped>\n",
       "    .dataframe tbody tr th:only-of-type {\n",
       "        vertical-align: middle;\n",
       "    }\n",
       "\n",
       "    .dataframe tbody tr th {\n",
       "        vertical-align: top;\n",
       "    }\n",
       "\n",
       "    .dataframe thead th {\n",
       "        text-align: right;\n",
       "    }\n",
       "</style>\n",
       "<table border=\"1\" class=\"dataframe\">\n",
       "  <thead>\n",
       "    <tr style=\"text-align: right;\">\n",
       "      <th></th>\n",
       "      <th>course_name</th>\n",
       "      <th>duration</th>\n",
       "    </tr>\n",
       "  </thead>\n",
       "  <tbody>\n",
       "    <tr>\n",
       "      <th>1</th>\n",
       "      <td>Machine Learning</td>\n",
       "      <td>3</td>\n",
       "    </tr>\n",
       "  </tbody>\n",
       "</table>\n",
       "</div>"
      ],
      "text/plain": [
       "        course_name  duration\n",
       "1  Machine Learning         3"
      ]
     },
     "execution_count": 52,
     "metadata": {},
     "output_type": "execute_result"
    }
   ],
   "source": [
    "df.iloc[[1]]"
   ]
  },
  {
   "cell_type": "markdown",
   "id": "61e2c983-16a5-423a-a88f-85be7d0d3752",
   "metadata": {},
   "source": [
    "# Q2. What is the difference between the functions loc and iloc in pandas.DataFrame?"
   ]
  },
  {
   "cell_type": "markdown",
   "id": "0909c1c5-411e-4ba6-a9f9-3b08294ec9d6",
   "metadata": {},
   "source": [
    "Ans 👉loc function take input which is lable by us or visible to us\n",
    "but iloc function take or read input which is given by the python interpeter as indexing."
   ]
  },
  {
   "cell_type": "markdown",
   "id": "077bdf32-6bfb-4ebe-ad33-aba2aaba1a9f",
   "metadata": {},
   "source": [
    "# Q3. Reindex the given dataframe using a variable, reindex = [3,0,1,2] and store it in the variable, new_df then find the output for both new_df.loc[2] and new_df.iloc[2]."
   ]
  },
  {
   "cell_type": "code",
   "execution_count": 53,
   "id": "429643c8-cfa0-4a64-9a0b-be4f7860a0a2",
   "metadata": {},
   "outputs": [],
   "source": [
    "new_df = df.reindex([3,0,1,2])"
   ]
  },
  {
   "cell_type": "code",
   "execution_count": 56,
   "id": "e46ef173-949d-48df-afc0-b8c07d23b9b4",
   "metadata": {},
   "outputs": [
    {
     "data": {
      "text/plain": [
       "course_name    Big Data\n",
       "duration              6\n",
       "Name: 2, dtype: object"
      ]
     },
     "execution_count": 56,
     "metadata": {},
     "output_type": "execute_result"
    }
   ],
   "source": [
    "new_df.loc[2]"
   ]
  },
  {
   "cell_type": "code",
   "execution_count": 57,
   "id": "1b076a83-48b6-4335-9e4e-d3b5b67b52ef",
   "metadata": {},
   "outputs": [
    {
     "data": {
      "text/plain": [
       "course_name    Machine Learning\n",
       "duration                      3\n",
       "Name: 1, dtype: object"
      ]
     },
     "execution_count": 57,
     "metadata": {},
     "output_type": "execute_result"
    }
   ],
   "source": [
    "new_df.iloc[2]"
   ]
  },
  {
   "cell_type": "markdown",
   "id": "9ad9f1d3-f241-4442-822a-5f3759b86ef5",
   "metadata": {},
   "source": [
    "# Did you observe any difference in both the outputs? If so then explain it."
   ]
  },
  {
   "cell_type": "markdown",
   "id": "efcff097-8060-40e6-9022-6b3b05eb1a5e",
   "metadata": {},
   "source": [
    "Ans👉when i use loc function its gives output according to the name of row \n",
    "but i use iloc funtiion its give output according to the indexing value"
   ]
  },
  {
   "cell_type": "code",
   "execution_count": 80,
   "id": "6d051753-de01-4843-b23f-e2afc21f0a1e",
   "metadata": {},
   "outputs": [],
   "source": [
    "import pandas as pd\n",
    "import numpy as np\n",
    "columns = ['column_1', 'column_2', 'column_3', 'column_4', 'column_5', 'column_6']\n",
    "indices = [1,2,3,4,5,6]\n",
    "#Creating a dataframe:\n",
    "df1 = pd.DataFrame(np.random.rand(6,6), columns = columns, index = indices)"
   ]
  },
  {
   "cell_type": "code",
   "execution_count": 61,
   "id": "8973c7aa-decf-4f5b-a870-8a5c313ade52",
   "metadata": {},
   "outputs": [
    {
     "data": {
      "text/html": [
       "<div>\n",
       "<style scoped>\n",
       "    .dataframe tbody tr th:only-of-type {\n",
       "        vertical-align: middle;\n",
       "    }\n",
       "\n",
       "    .dataframe tbody tr th {\n",
       "        vertical-align: top;\n",
       "    }\n",
       "\n",
       "    .dataframe thead th {\n",
       "        text-align: right;\n",
       "    }\n",
       "</style>\n",
       "<table border=\"1\" class=\"dataframe\">\n",
       "  <thead>\n",
       "    <tr style=\"text-align: right;\">\n",
       "      <th></th>\n",
       "      <th>column_1</th>\n",
       "      <th>column_2</th>\n",
       "      <th>column_3</th>\n",
       "      <th>column_4</th>\n",
       "      <th>column_5</th>\n",
       "      <th>column_6</th>\n",
       "    </tr>\n",
       "  </thead>\n",
       "  <tbody>\n",
       "    <tr>\n",
       "      <th>1</th>\n",
       "      <td>0.229857</td>\n",
       "      <td>0.738232</td>\n",
       "      <td>0.787451</td>\n",
       "      <td>0.264053</td>\n",
       "      <td>0.160371</td>\n",
       "      <td>0.233598</td>\n",
       "    </tr>\n",
       "    <tr>\n",
       "      <th>2</th>\n",
       "      <td>0.613042</td>\n",
       "      <td>0.650979</td>\n",
       "      <td>0.934487</td>\n",
       "      <td>0.717249</td>\n",
       "      <td>0.255283</td>\n",
       "      <td>0.566217</td>\n",
       "    </tr>\n",
       "    <tr>\n",
       "      <th>3</th>\n",
       "      <td>0.638825</td>\n",
       "      <td>0.419086</td>\n",
       "      <td>0.390957</td>\n",
       "      <td>0.010413</td>\n",
       "      <td>0.379911</td>\n",
       "      <td>0.044769</td>\n",
       "    </tr>\n",
       "    <tr>\n",
       "      <th>4</th>\n",
       "      <td>0.690637</td>\n",
       "      <td>0.213943</td>\n",
       "      <td>0.313219</td>\n",
       "      <td>0.780937</td>\n",
       "      <td>0.884162</td>\n",
       "      <td>0.402940</td>\n",
       "    </tr>\n",
       "    <tr>\n",
       "      <th>5</th>\n",
       "      <td>0.582238</td>\n",
       "      <td>0.755584</td>\n",
       "      <td>0.565808</td>\n",
       "      <td>0.078245</td>\n",
       "      <td>0.648487</td>\n",
       "      <td>0.931113</td>\n",
       "    </tr>\n",
       "    <tr>\n",
       "      <th>6</th>\n",
       "      <td>0.980864</td>\n",
       "      <td>0.461081</td>\n",
       "      <td>0.199269</td>\n",
       "      <td>0.288180</td>\n",
       "      <td>0.447175</td>\n",
       "      <td>0.229409</td>\n",
       "    </tr>\n",
       "  </tbody>\n",
       "</table>\n",
       "</div>"
      ],
      "text/plain": [
       "   column_1  column_2  column_3  column_4  column_5  column_6\n",
       "1  0.229857  0.738232  0.787451  0.264053  0.160371  0.233598\n",
       "2  0.613042  0.650979  0.934487  0.717249  0.255283  0.566217\n",
       "3  0.638825  0.419086  0.390957  0.010413  0.379911  0.044769\n",
       "4  0.690637  0.213943  0.313219  0.780937  0.884162  0.402940\n",
       "5  0.582238  0.755584  0.565808  0.078245  0.648487  0.931113\n",
       "6  0.980864  0.461081  0.199269  0.288180  0.447175  0.229409"
      ]
     },
     "execution_count": 61,
     "metadata": {},
     "output_type": "execute_result"
    }
   ],
   "source": [
    "df1"
   ]
  },
  {
   "cell_type": "markdown",
   "id": "431e4b0e-34ef-414c-ab6f-ecfebd829f6c",
   "metadata": {},
   "source": [
    "# Q4. Write a code to find the following statistical measurements for the above dataframe df1:\n",
    "# (i) mean of each and every column present in the dataframe.\n",
    "# (ii) standard deviation of column, ‘column_2’"
   ]
  },
  {
   "cell_type": "code",
   "execution_count": 83,
   "id": "c82d2ec3-3491-44ac-88f7-00b3b329e5d7",
   "metadata": {},
   "outputs": [
    {
     "data": {
      "text/plain": [
       "column_1    0.312489\n",
       "column_2    0.567166\n",
       "column_3    0.571349\n",
       "column_4    0.500457\n",
       "column_5    0.622411\n",
       "column_6    0.391127\n",
       "dtype: float64"
      ]
     },
     "execution_count": 83,
     "metadata": {},
     "output_type": "execute_result"
    }
   ],
   "source": [
    "#(i)\n",
    "df1.mean()"
   ]
  },
  {
   "cell_type": "code",
   "execution_count": 84,
   "id": "40efccda-5bb1-484b-b8de-f535d249c2ff",
   "metadata": {},
   "outputs": [
    {
     "data": {
      "text/plain": [
       "0.3308521604848693"
      ]
     },
     "execution_count": 84,
     "metadata": {},
     "output_type": "execute_result"
    }
   ],
   "source": [
    "# (ii)\n",
    "df1['column_2'].std()"
   ]
  },
  {
   "cell_type": "markdown",
   "id": "f0db46da-874a-4de4-803b-a30b51321fde",
   "metadata": {},
   "source": [
    "# Q5. Replace the data present in the second row of column, ‘column_2’ by a string variable then find the mean of column, column_2.\n",
    "# If you are getting errors in executing it then explain why.\n",
    "# [Hint: To replace the data use df1.loc[] and equate this to string data of your choice.]"
   ]
  },
  {
   "cell_type": "code",
   "execution_count": 82,
   "id": "12882ce9-258e-4593-85cc-7a694a113c05",
   "metadata": {},
   "outputs": [
    {
     "data": {
      "text/html": [
       "<div>\n",
       "<style scoped>\n",
       "    .dataframe tbody tr th:only-of-type {\n",
       "        vertical-align: middle;\n",
       "    }\n",
       "\n",
       "    .dataframe tbody tr th {\n",
       "        vertical-align: top;\n",
       "    }\n",
       "\n",
       "    .dataframe thead th {\n",
       "        text-align: right;\n",
       "    }\n",
       "</style>\n",
       "<table border=\"1\" class=\"dataframe\">\n",
       "  <thead>\n",
       "    <tr style=\"text-align: right;\">\n",
       "      <th></th>\n",
       "      <th>column_1</th>\n",
       "      <th>column_2</th>\n",
       "      <th>column_3</th>\n",
       "      <th>column_4</th>\n",
       "      <th>column_5</th>\n",
       "      <th>column_6</th>\n",
       "    </tr>\n",
       "  </thead>\n",
       "  <tbody>\n",
       "    <tr>\n",
       "      <th>1</th>\n",
       "      <td>0.040341</td>\n",
       "      <td>0.238111</td>\n",
       "      <td>0.916927</td>\n",
       "      <td>0.325183</td>\n",
       "      <td>0.225823</td>\n",
       "      <td>0.553005</td>\n",
       "    </tr>\n",
       "    <tr>\n",
       "      <th>2</th>\n",
       "      <td>0.127983</td>\n",
       "      <td>0.148318</td>\n",
       "      <td>0.720748</td>\n",
       "      <td>0.994110</td>\n",
       "      <td>0.814712</td>\n",
       "      <td>0.603163</td>\n",
       "    </tr>\n",
       "    <tr>\n",
       "      <th>3</th>\n",
       "      <td>0.726410</td>\n",
       "      <td>0.925583</td>\n",
       "      <td>0.526066</td>\n",
       "      <td>0.151678</td>\n",
       "      <td>0.789655</td>\n",
       "      <td>0.284296</td>\n",
       "    </tr>\n",
       "    <tr>\n",
       "      <th>4</th>\n",
       "      <td>0.222364</td>\n",
       "      <td>0.538524</td>\n",
       "      <td>0.834799</td>\n",
       "      <td>0.276545</td>\n",
       "      <td>0.150699</td>\n",
       "      <td>0.014442</td>\n",
       "    </tr>\n",
       "    <tr>\n",
       "      <th>5</th>\n",
       "      <td>0.564568</td>\n",
       "      <td>0.929374</td>\n",
       "      <td>0.323261</td>\n",
       "      <td>0.281075</td>\n",
       "      <td>0.774039</td>\n",
       "      <td>0.373221</td>\n",
       "    </tr>\n",
       "    <tr>\n",
       "      <th>6</th>\n",
       "      <td>0.193268</td>\n",
       "      <td>0.623085</td>\n",
       "      <td>0.106296</td>\n",
       "      <td>0.974154</td>\n",
       "      <td>0.979535</td>\n",
       "      <td>0.518634</td>\n",
       "    </tr>\n",
       "  </tbody>\n",
       "</table>\n",
       "</div>"
      ],
      "text/plain": [
       "   column_1  column_2  column_3  column_4  column_5  column_6\n",
       "1  0.040341  0.238111  0.916927  0.325183  0.225823  0.553005\n",
       "2  0.127983  0.148318  0.720748  0.994110  0.814712  0.603163\n",
       "3  0.726410  0.925583  0.526066  0.151678  0.789655  0.284296\n",
       "4  0.222364  0.538524  0.834799  0.276545  0.150699  0.014442\n",
       "5  0.564568  0.929374  0.323261  0.281075  0.774039  0.373221\n",
       "6  0.193268  0.623085  0.106296  0.974154  0.979535  0.518634"
      ]
     },
     "execution_count": 82,
     "metadata": {},
     "output_type": "execute_result"
    }
   ],
   "source": [
    "df1.replace(df1.loc[3], df1['column_2'] )"
   ]
  },
  {
   "cell_type": "code",
   "execution_count": 85,
   "id": "e203d341-5ab0-4246-84cb-2f63fe53460e",
   "metadata": {},
   "outputs": [
    {
     "data": {
      "text/plain": [
       "0.5671660483768335"
      ]
     },
     "execution_count": 85,
     "metadata": {},
     "output_type": "execute_result"
    }
   ],
   "source": [
    "df1['column_2'].mean()"
   ]
  },
  {
   "cell_type": "markdown",
   "id": "4e4503ed-c749-402e-9846-4208b65d0f05",
   "metadata": {},
   "source": [
    "# Q6. What do you understand about the windows function in pandas and list the types of windows functions?"
   ]
  },
  {
   "cell_type": "markdown",
   "id": "9ae76812-a6f4-4d38-9d95-d143d48d15e2",
   "metadata": {},
   "source": [
    "Ans👉windows function is a way to calculate the larger set of data with the help of point is called window,\n",
    "its allow us to calculate data for a specific number of data or fixed interval \n",
    "These are followinf types of windows funcion:\n",
    "    1. rolling window funtion \n",
    "    2. expanding window funtion \n",
    "    3. exponentioal window function\n",
    "    4. cumulative window funtion "
   ]
  },
  {
   "cell_type": "markdown",
   "id": "4e4cb0bf-fb87-4524-b75b-c964b172af19",
   "metadata": {},
   "source": [
    "# Q7. Write a code to print only the current month and year at the time of answering this question.\n",
    "# [Hint: Use pandas.datetime function]"
   ]
  },
  {
   "cell_type": "code",
   "execution_count": 141,
   "id": "397280be-cbba-4d9a-aef4-c2d965438315",
   "metadata": {},
   "outputs": [
    {
     "data": {
      "text/plain": [
       "'March 2023'"
      ]
     },
     "execution_count": 141,
     "metadata": {},
     "output_type": "execute_result"
    }
   ],
   "source": [
    "import datetime as dt\n",
    "current_time = dt.datetime.now()\n",
    "current_month_year = current_time.strftime(\"%B %Y\")\n",
    "current_month_year"
   ]
  },
  {
   "cell_type": "markdown",
   "id": "9efd0eb1-0cf3-47a2-890c-65d5e9192bb6",
   "metadata": {},
   "source": [
    "# Q8. Write a Python program that takes in two dates as input (in the format YYYY-MM-DD) and calculates the difference between them in days, hours, and minutes using Pandas time delta. The\n",
    "# program should prompt the user to enter the dates and display the result."
   ]
  },
  {
   "cell_type": "code",
   "execution_count": 23,
   "id": "3830df25-d081-49f9-bdcf-62217247e918",
   "metadata": {},
   "outputs": [
    {
     "name": "stdin",
     "output_type": "stream",
     "text": [
      "Enter first date in the format YYYY-MM-DD 2023-05-02\n",
      "Enter second date in the format YYYY-MM-DD 2023-08-05\n"
     ]
    },
    {
     "name": "stdout",
     "output_type": "stream",
     "text": [
      "Your result is: 95 days 00:00:00\n"
     ]
    }
   ],
   "source": [
    "import pandas as pd\n",
    "import datetime as dt\n",
    "input1 = input(\"Enter first date in the format YYYY-MM-DD\")\n",
    "input2= input(\"Enter second date in the format YYYY-MM-DD\")\n",
    "date1 = dt.datetime.strptime(input1, \"%Y-%m-%d\").date()\n",
    "date2 = dt.datetime.strptime(input2, \"%Y-%m-%d\").date()\n",
    "diff_bt= date2- date1\n",
    "final_result = pd.to_timedelta(diff_bt)\n",
    "print(\"Your result is: \" + str(final_result))"
   ]
  },
  {
   "cell_type": "markdown",
   "id": "ba05aab1-2274-4379-993a-248b135dbecd",
   "metadata": {},
   "source": [
    "# Q9. Write a Python program that reads a CSV file containing categorical data and converts a specified column to a categorical data type. The program should prompt the user to enter the file path, column name, and category order, and then display the sorted data."
   ]
  },
  {
   "cell_type": "code",
   "execution_count": 71,
   "id": "0c19d911-bd41-4ea9-8e82-5e00d58c0cd0",
   "metadata": {},
   "outputs": [
    {
     "name": "stdin",
     "output_type": "stream",
     "text": [
      "Enter your file path https://raw.githubusercontent.com/datasciencedojo/datasets/master/titanic.csv\n",
      "Enter column name Sex\n",
      "Enter category order male\n"
     ]
    },
    {
     "data": {
      "text/html": [
       "<div>\n",
       "<style scoped>\n",
       "    .dataframe tbody tr th:only-of-type {\n",
       "        vertical-align: middle;\n",
       "    }\n",
       "\n",
       "    .dataframe tbody tr th {\n",
       "        vertical-align: top;\n",
       "    }\n",
       "\n",
       "    .dataframe thead th {\n",
       "        text-align: right;\n",
       "    }\n",
       "</style>\n",
       "<table border=\"1\" class=\"dataframe\">\n",
       "  <thead>\n",
       "    <tr style=\"text-align: right;\">\n",
       "      <th></th>\n",
       "      <th>PassengerId</th>\n",
       "      <th>Survived</th>\n",
       "      <th>Pclass</th>\n",
       "      <th>Name</th>\n",
       "      <th>Sex</th>\n",
       "      <th>Age</th>\n",
       "      <th>SibSp</th>\n",
       "      <th>Parch</th>\n",
       "      <th>Ticket</th>\n",
       "      <th>Fare</th>\n",
       "      <th>Cabin</th>\n",
       "      <th>Embarked</th>\n",
       "    </tr>\n",
       "  </thead>\n",
       "  <tbody>\n",
       "    <tr>\n",
       "      <th>0</th>\n",
       "      <td>1</td>\n",
       "      <td>0</td>\n",
       "      <td>3</td>\n",
       "      <td>Braund, Mr. Owen Harris</td>\n",
       "      <td>male</td>\n",
       "      <td>22.0</td>\n",
       "      <td>1</td>\n",
       "      <td>0</td>\n",
       "      <td>A/5 21171</td>\n",
       "      <td>7.2500</td>\n",
       "      <td>NaN</td>\n",
       "      <td>S</td>\n",
       "    </tr>\n",
       "    <tr>\n",
       "      <th>4</th>\n",
       "      <td>5</td>\n",
       "      <td>0</td>\n",
       "      <td>3</td>\n",
       "      <td>Allen, Mr. William Henry</td>\n",
       "      <td>male</td>\n",
       "      <td>35.0</td>\n",
       "      <td>0</td>\n",
       "      <td>0</td>\n",
       "      <td>373450</td>\n",
       "      <td>8.0500</td>\n",
       "      <td>NaN</td>\n",
       "      <td>S</td>\n",
       "    </tr>\n",
       "    <tr>\n",
       "      <th>5</th>\n",
       "      <td>6</td>\n",
       "      <td>0</td>\n",
       "      <td>3</td>\n",
       "      <td>Moran, Mr. James</td>\n",
       "      <td>male</td>\n",
       "      <td>NaN</td>\n",
       "      <td>0</td>\n",
       "      <td>0</td>\n",
       "      <td>330877</td>\n",
       "      <td>8.4583</td>\n",
       "      <td>NaN</td>\n",
       "      <td>Q</td>\n",
       "    </tr>\n",
       "    <tr>\n",
       "      <th>6</th>\n",
       "      <td>7</td>\n",
       "      <td>0</td>\n",
       "      <td>1</td>\n",
       "      <td>McCarthy, Mr. Timothy J</td>\n",
       "      <td>male</td>\n",
       "      <td>54.0</td>\n",
       "      <td>0</td>\n",
       "      <td>0</td>\n",
       "      <td>17463</td>\n",
       "      <td>51.8625</td>\n",
       "      <td>E46</td>\n",
       "      <td>S</td>\n",
       "    </tr>\n",
       "    <tr>\n",
       "      <th>7</th>\n",
       "      <td>8</td>\n",
       "      <td>0</td>\n",
       "      <td>3</td>\n",
       "      <td>Palsson, Master. Gosta Leonard</td>\n",
       "      <td>male</td>\n",
       "      <td>2.0</td>\n",
       "      <td>3</td>\n",
       "      <td>1</td>\n",
       "      <td>349909</td>\n",
       "      <td>21.0750</td>\n",
       "      <td>NaN</td>\n",
       "      <td>S</td>\n",
       "    </tr>\n",
       "    <tr>\n",
       "      <th>...</th>\n",
       "      <td>...</td>\n",
       "      <td>...</td>\n",
       "      <td>...</td>\n",
       "      <td>...</td>\n",
       "      <td>...</td>\n",
       "      <td>...</td>\n",
       "      <td>...</td>\n",
       "      <td>...</td>\n",
       "      <td>...</td>\n",
       "      <td>...</td>\n",
       "      <td>...</td>\n",
       "      <td>...</td>\n",
       "    </tr>\n",
       "    <tr>\n",
       "      <th>883</th>\n",
       "      <td>884</td>\n",
       "      <td>0</td>\n",
       "      <td>2</td>\n",
       "      <td>Banfield, Mr. Frederick James</td>\n",
       "      <td>male</td>\n",
       "      <td>28.0</td>\n",
       "      <td>0</td>\n",
       "      <td>0</td>\n",
       "      <td>C.A./SOTON 34068</td>\n",
       "      <td>10.5000</td>\n",
       "      <td>NaN</td>\n",
       "      <td>S</td>\n",
       "    </tr>\n",
       "    <tr>\n",
       "      <th>884</th>\n",
       "      <td>885</td>\n",
       "      <td>0</td>\n",
       "      <td>3</td>\n",
       "      <td>Sutehall, Mr. Henry Jr</td>\n",
       "      <td>male</td>\n",
       "      <td>25.0</td>\n",
       "      <td>0</td>\n",
       "      <td>0</td>\n",
       "      <td>SOTON/OQ 392076</td>\n",
       "      <td>7.0500</td>\n",
       "      <td>NaN</td>\n",
       "      <td>S</td>\n",
       "    </tr>\n",
       "    <tr>\n",
       "      <th>886</th>\n",
       "      <td>887</td>\n",
       "      <td>0</td>\n",
       "      <td>2</td>\n",
       "      <td>Montvila, Rev. Juozas</td>\n",
       "      <td>male</td>\n",
       "      <td>27.0</td>\n",
       "      <td>0</td>\n",
       "      <td>0</td>\n",
       "      <td>211536</td>\n",
       "      <td>13.0000</td>\n",
       "      <td>NaN</td>\n",
       "      <td>S</td>\n",
       "    </tr>\n",
       "    <tr>\n",
       "      <th>889</th>\n",
       "      <td>890</td>\n",
       "      <td>1</td>\n",
       "      <td>1</td>\n",
       "      <td>Behr, Mr. Karl Howell</td>\n",
       "      <td>male</td>\n",
       "      <td>26.0</td>\n",
       "      <td>0</td>\n",
       "      <td>0</td>\n",
       "      <td>111369</td>\n",
       "      <td>30.0000</td>\n",
       "      <td>C148</td>\n",
       "      <td>C</td>\n",
       "    </tr>\n",
       "    <tr>\n",
       "      <th>890</th>\n",
       "      <td>891</td>\n",
       "      <td>0</td>\n",
       "      <td>3</td>\n",
       "      <td>Dooley, Mr. Patrick</td>\n",
       "      <td>male</td>\n",
       "      <td>32.0</td>\n",
       "      <td>0</td>\n",
       "      <td>0</td>\n",
       "      <td>370376</td>\n",
       "      <td>7.7500</td>\n",
       "      <td>NaN</td>\n",
       "      <td>Q</td>\n",
       "    </tr>\n",
       "  </tbody>\n",
       "</table>\n",
       "<p>577 rows × 12 columns</p>\n",
       "</div>"
      ],
      "text/plain": [
       "     PassengerId  Survived  Pclass                            Name   Sex  \\\n",
       "0              1         0       3         Braund, Mr. Owen Harris  male   \n",
       "4              5         0       3        Allen, Mr. William Henry  male   \n",
       "5              6         0       3                Moran, Mr. James  male   \n",
       "6              7         0       1         McCarthy, Mr. Timothy J  male   \n",
       "7              8         0       3  Palsson, Master. Gosta Leonard  male   \n",
       "..           ...       ...     ...                             ...   ...   \n",
       "883          884         0       2   Banfield, Mr. Frederick James  male   \n",
       "884          885         0       3          Sutehall, Mr. Henry Jr  male   \n",
       "886          887         0       2           Montvila, Rev. Juozas  male   \n",
       "889          890         1       1           Behr, Mr. Karl Howell  male   \n",
       "890          891         0       3             Dooley, Mr. Patrick  male   \n",
       "\n",
       "      Age  SibSp  Parch            Ticket     Fare Cabin Embarked  \n",
       "0    22.0      1      0         A/5 21171   7.2500   NaN        S  \n",
       "4    35.0      0      0            373450   8.0500   NaN        S  \n",
       "5     NaN      0      0            330877   8.4583   NaN        Q  \n",
       "6    54.0      0      0             17463  51.8625   E46        S  \n",
       "7     2.0      3      1            349909  21.0750   NaN        S  \n",
       "..    ...    ...    ...               ...      ...   ...      ...  \n",
       "883  28.0      0      0  C.A./SOTON 34068  10.5000   NaN        S  \n",
       "884  25.0      0      0   SOTON/OQ 392076   7.0500   NaN        S  \n",
       "886  27.0      0      0            211536  13.0000   NaN        S  \n",
       "889  26.0      0      0            111369  30.0000  C148        C  \n",
       "890  32.0      0      0            370376   7.7500   NaN        Q  \n",
       "\n",
       "[577 rows x 12 columns]"
      ]
     },
     "execution_count": 71,
     "metadata": {},
     "output_type": "execute_result"
    }
   ],
   "source": [
    "import pandas as pd\n",
    "file = input(\"Enter your file path\")\n",
    "column_name = input(\"Enter column name\")\n",
    "category_order = input(\"Enter category order\")\n",
    "df=pd.read_csv(file)\n",
    "sorted_data = df[df[column_name] == category_order]\n",
    "sorted_data\n",
    "# try:\n",
    "#     sorted_data = df[df[column_name] == category_order]\n",
    "# except Exception as e:\n",
    "#     print(e.__class__.__name__,\":\",e, \"Please check your column name or Category order name\")"
   ]
  },
  {
   "cell_type": "markdown",
   "id": "91d56718-0d81-4f86-b406-9de62ce1ea21",
   "metadata": {},
   "source": [
    "# Q10. Write a Python program that reads a CSV file containing sales data for different products and visualizes the data using a stacked bar chart to show the sales of each product category over time. The program should prompt the user to enter the file path and display the chart."
   ]
  },
  {
   "cell_type": "code",
   "execution_count": 32,
   "id": "43fcf20a-2b2c-4104-a0a5-63706e1d2d29",
   "metadata": {},
   "outputs": [
    {
     "name": "stdin",
     "output_type": "stream",
     "text": [
      "Enter your csv file path https://www.data.qld.gov.au/dataset/1ce456ee-1e8c-4da4-a44b-341ce34923b6/resource/8920affa-4b49-4684-9a8a-621c2de82684/download/ibis-product-group-sales-report.csv\n"
     ]
    },
    {
     "data": {
      "text/plain": [
       "<AxesSubplot: title={'center': 'Stacked Bar'}, xlabel='Year/Month', ylabel='Number of Sales'>"
      ]
     },
     "execution_count": 32,
     "metadata": {},
     "output_type": "execute_result"
    },
    {
     "data": {
      "image/png": "[encoded data removed]",
      "text/plain": [
       "<Figure size 640x480 with 1 Axes>"
      ]
     },
     "metadata": {},
     "output_type": "display_data"
    }
   ],
   "source": [
    "import pandas as pd\n",
    "file_path = input(\"Enter your csv file path\")\n",
    "read = pd.read_csv(file_path)\n",
    "x = read.values\n",
    "y=read.columns\n",
    "df = pd.DataFrame(x, columns=y)\n",
    "df.plot(x=\"Year/Month\",\n",
    "        kind='bar',\n",
    "        stacked=True,\n",
    "        ylabel= 'Number of Sales',\n",
    "        title='Stacked Bar')"
   ]
  },
  {
   "cell_type": "markdown",
   "id": "5c71a548-f76a-4438-8e69-55002df75321",
   "metadata": {},
   "source": [
    "# Q11. You are given a CSV file containing student data that includes the student ID and their test score. Write a Python program that reads the CSV file, calculates the mean, median, and mode of the test scores, and displays the results in a table."
   ]
  },
  {
   "cell_type": "code",
   "execution_count": 2,
   "id": "b8322cb5-bc6f-4a33-b607-339298d6efc9",
   "metadata": {},
   "outputs": [
    {
     "name": "stdin",
     "output_type": "stream",
     "text": [
      "Enter your CSV file containing student data path: Student_data.csv\n"
     ]
    },
    {
     "name": "stdout",
     "output_type": "stream",
     "text": [
      "Statistic  Value\n",
      "     Mean   83.5\n",
      "   Median   85.0\n",
      "     Mode   85.0\n"
     ]
    }
   ],
   "source": [
    "import pandas as pd\n",
    "file_path = input(\"Enter your CSV file containing student data path:\")\n",
    "df= pd.read_csv(file_path)\n",
    "mean = df['Test Score'].mean()\n",
    "median= df['Test Score'].median()\n",
    "mode =df['Test Score'].mode()[0]\n",
    "final= pd.DataFrame({\"Statistic\": [\"Mean\", \"Median\", \"Mode\"], \"Value\": [mean, median, mode]})\n",
    "print(final.to_string(index=False))"
   ]
  },
  {
   "cell_type": "code",
   "execution_count": null,
   "id": "bcd0d441-0d3d-483c-9f18-ea7e4f986197",
   "metadata": {},
   "outputs": [],
   "source": []
  }
 ],
 "metadata": {
  "kernelspec": {
   "display_name": "Python 3 (ipykernel)",
   "language": "python",
   "name": "python3"
  },
  "language_info": {
   "codemirror_mode": {
    "name": "ipython",
    "version": 3
   },
   "file_extension": ".py",
   "mimetype": "text/x-python",
   "name": "python",
   "nbconvert_exporter": "python",
   "pygments_lexer": "ipython3",
   "version": "3.10.8"
  }
 },
 "nbformat": 4,
 "nbformat_minor": 5
}
