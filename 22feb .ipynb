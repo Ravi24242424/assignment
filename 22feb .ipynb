{
 "cells": [
  {
   "cell_type": "markdown",
   "id": "2b6ae3eb-af1d-4e0a-b674-3eb9cc3c7510",
   "metadata": {},
   "source": [
    "Q1. Create a Pandas Series that contains the following data: 4, 8, 15, 16, 23, and 42. Then, print the series."
   ]
  },
  {
   "cell_type": "code",
   "execution_count": 17,
   "id": "d1199400-789d-4a3a-a995-509c8010efa7",
   "metadata": {},
   "outputs": [
    {
     "data": {
      "text/plain": [
       "0     4\n",
       "1     8\n",
       "2    15\n",
       "3    16\n",
       "4    23\n",
       "5    42\n",
       "dtype: int64"
      ]
     },
     "execution_count": 17,
     "metadata": {},
     "output_type": "execute_result"
    }
   ],
   "source": [
    "import pandas as pd\n",
    "data = [4, 8, 15, 16, 23,42]\n",
    "series=pd.Series(data)\n",
    "series"
   ]
  },
  {
   "cell_type": "markdown",
   "id": "0c70a7ad-346f-420f-9f46-8430b56592d4",
   "metadata": {},
   "source": [
    "Q2. Create a variable of list type containing 10 elements in it, and apply pandas.Series function on the\n",
    "variable print it."
   ]
  },
  {
   "cell_type": "code",
   "execution_count": 15,
   "id": "d42fcd4f-ba0d-4e97-b8bd-c1260d5ea9ec",
   "metadata": {},
   "outputs": [
    {
     "data": {
      "text/plain": [
       "0    0\n",
       "1    1\n",
       "2    2\n",
       "3    3\n",
       "4    4\n",
       "5    5\n",
       "6    6\n",
       "7    7\n",
       "8    8\n",
       "9    9\n",
       "dtype: int64"
      ]
     },
     "execution_count": 15,
     "metadata": {},
     "output_type": "execute_result"
    }
   ],
   "source": [
    "var = list(range(10))\n",
    "pd.Series(var)"
   ]
  },
  {
   "attachments": {
    "9f97cefb-a8b6-4e44-8b4d-3ef664fadc7a.png": {
     "image/png": "[encoded data removed]"
    }
   },
   "cell_type": "markdown",
   "id": "fb77ac2e-a918-417b-9c4a-37450e50a50c",
   "metadata": {},
   "source": [
    "Q3. Create a Pandas DataFrame that contains the following data:\n",
    "    ![image.png](attachment:9f97cefb-a8b6-4e44-8b4d-3ef664fadc7a.png)"
   ]
  },
  {
   "cell_type": "code",
   "execution_count": 39,
   "id": "850717ed-7b3b-4424-ba7b-061439449f23",
   "metadata": {},
   "outputs": [
    {
     "data": {
      "text/html": [
       "<div>\n",
       "<style scoped>\n",
       "    .dataframe tbody tr th:only-of-type {\n",
       "        vertical-align: middle;\n",
       "    }\n",
       "\n",
       "    .dataframe tbody tr th {\n",
       "        vertical-align: top;\n",
       "    }\n",
       "\n",
       "    .dataframe thead th {\n",
       "        text-align: right;\n",
       "    }\n",
       "</style>\n",
       "<table border=\"1\" class=\"dataframe\">\n",
       "  <thead>\n",
       "    <tr style=\"text-align: right;\">\n",
       "      <th></th>\n",
       "      <th>Name</th>\n",
       "      <th>Age</th>\n",
       "      <th>Gender</th>\n",
       "    </tr>\n",
       "  </thead>\n",
       "  <tbody>\n",
       "    <tr>\n",
       "      <th>0</th>\n",
       "      <td>Alice</td>\n",
       "      <td>25</td>\n",
       "      <td>Female</td>\n",
       "    </tr>\n",
       "    <tr>\n",
       "      <th>1</th>\n",
       "      <td>Bob</td>\n",
       "      <td>30</td>\n",
       "      <td>Male</td>\n",
       "    </tr>\n",
       "    <tr>\n",
       "      <th>2</th>\n",
       "      <td>Claire</td>\n",
       "      <td>27</td>\n",
       "      <td>Female</td>\n",
       "    </tr>\n",
       "  </tbody>\n",
       "</table>\n",
       "</div>"
      ],
      "text/plain": [
       "     Name  Age  Gender\n",
       "0   Alice   25  Female\n",
       "1     Bob   30    Male\n",
       "2  Claire   27  Female"
      ]
     },
     "execution_count": 39,
     "metadata": {},
     "output_type": "execute_result"
    }
   ],
   "source": [
    "name = [\"Alice\",\"Bob\",\"Claire\"]\n",
    "age = [25,30,27]\n",
    "gender = [\"Female\", \"Male\", \"Female\"]\n",
    "data = {\"Name\":name,\"Age\":age,\"Gender\": gender}\n",
    "df= pd.DataFrame(data)\n",
    "df"
   ]
  },
  {
   "cell_type": "markdown",
   "id": "5d34523f-c297-4fc5-ae96-df2b2d1e1f39",
   "metadata": {},
   "source": [
    "Q4. What is ‘DataFrame’ in pandas and how is it different from pandas.series? Explain with an example."
   ]
  },
  {
   "cell_type": "code",
   "execution_count": 43,
   "id": "25b9343c-b384-488e-935e-eb173d82813f",
   "metadata": {},
   "outputs": [
    {
     "data": {
      "text/plain": [
       "(pandas.core.frame.DataFrame, pandas.core.series.Series)"
      ]
     },
     "execution_count": 43,
     "metadata": {},
     "output_type": "execute_result"
    }
   ],
   "source": [
    "# DataFrame is a group of pandas.series in the dataframe every rows and columns is a panda.series.\n",
    "# DataFrame is mutable we can add or remove from created DataFrame object bu pandas.series is a immutable we can't add or remove in exiting series\n",
    "# in previous question `df` is the DataFrame which is create with the Name, Age, Gender \n",
    "type(df) ,type(df[\"Name\"])"
   ]
  },
  {
   "cell_type": "markdown",
   "id": "6c85ed9d-2bf7-4b7e-95f5-e0fd58e36220",
   "metadata": {},
   "source": [
    "Q5. What are some common functions you can use to manipulate data in a Pandas DataFrame? Can\n",
    "you give an example of when you might use one of these functions?"
   ]
  },
  {
   "cell_type": "code",
   "execution_count": 57,
   "id": "e50e3d31-bb80-48d7-bcaa-46e1d7e07fda",
   "metadata": {},
   "outputs": [],
   "source": [
    "df.describe() #this function Analyze only numaric value\n",
    "df.head()# this function give the first 5 rows of data\n",
    "df.tail()# this function give the last 5 rows of data\n",
    "df.iloc[0:1]# this funtion take the inbuitl index name give data according to this\n",
    "df.loc[0:1,\"Name\"]# This function take the index name which is visible or given by us \n",
    "# df.read_csv() # this funtion read the data of the csv file\n",
    "df.to_csv(\"TEst.csv\",index=False) #this function save the DataFrame to the csv file "
   ]
  },
  {
   "cell_type": "markdown",
   "id": "12a4def9-ff91-460b-b50b-f6882c48f167",
   "metadata": {},
   "source": [
    "Q6. Which of the following is mutable in nature Series, DataFrame, Panel?"
   ]
  },
  {
   "cell_type": "markdown",
   "id": "6a463d46-d0ec-43d2-861e-4a6840de9f3e",
   "metadata": {},
   "source": [
    "Ans👉DataFrame and Panel is mutable"
   ]
  },
  {
   "cell_type": "markdown",
   "id": "53b8a3b1-7f8a-4edb-90da-b0dda341aea3",
   "metadata": {},
   "source": [
    "Q7. Create a DataFrame using multiple Series. Explain with an example."
   ]
  },
  {
   "cell_type": "code",
   "execution_count": 72,
   "id": "3bd0383f-adcb-45a4-ab5e-271cadaea08e",
   "metadata": {},
   "outputs": [
    {
     "data": {
      "text/html": [
       "<div>\n",
       "<style scoped>\n",
       "    .dataframe tbody tr th:only-of-type {\n",
       "        vertical-align: middle;\n",
       "    }\n",
       "\n",
       "    .dataframe tbody tr th {\n",
       "        vertical-align: top;\n",
       "    }\n",
       "\n",
       "    .dataframe thead th {\n",
       "        text-align: right;\n",
       "    }\n",
       "</style>\n",
       "<table border=\"1\" class=\"dataframe\">\n",
       "  <thead>\n",
       "    <tr style=\"text-align: right;\">\n",
       "      <th></th>\n",
       "      <th>Name</th>\n",
       "      <th>Age</th>\n",
       "      <th>Gender</th>\n",
       "    </tr>\n",
       "  </thead>\n",
       "  <tbody>\n",
       "    <tr>\n",
       "      <th>0</th>\n",
       "      <td>Alice</td>\n",
       "      <td>25</td>\n",
       "      <td>Female</td>\n",
       "    </tr>\n",
       "    <tr>\n",
       "      <th>1</th>\n",
       "      <td>Bob</td>\n",
       "      <td>30</td>\n",
       "      <td>Male</td>\n",
       "    </tr>\n",
       "    <tr>\n",
       "      <th>2</th>\n",
       "      <td>Claire</td>\n",
       "      <td>27</td>\n",
       "      <td>Female</td>\n",
       "    </tr>\n",
       "  </tbody>\n",
       "</table>\n",
       "</div>"
      ],
      "text/plain": [
       "     Name  Age  Gender\n",
       "0   Alice   25  Female\n",
       "1     Bob   30    Male\n",
       "2  Claire   27  Female"
      ]
     },
     "execution_count": 72,
     "metadata": {},
     "output_type": "execute_result"
    }
   ],
   "source": [
    "name =pd.Series([\"Alice\",\"Bob\",\"Claire\"])\n",
    "age =pd.Series([25,30,27])\n",
    "gender =pd.Series([\"Female\", \"Male\", \"Female\"])\n",
    "\n",
    "data =pd.concat({\"Name\":name,\"Age\":age,\"Gender\":gender},axis=1)\n",
    "data"
   ]
  },
  {
   "cell_type": "code",
   "execution_count": null,
   "id": "b38ca74c-fdaa-456a-b3a0-d4868147783c",
   "metadata": {},
   "outputs": [],
   "source": []
  }
 ],
 "metadata": {
  "kernelspec": {
   "display_name": "Python 3 (ipykernel)",
   "language": "python",
   "name": "python3"
  },
  "language_info": {
   "codemirror_mode": {
    "name": "ipython",
    "version": 3
   },
   "file_extension": ".py",
   "mimetype": "text/x-python",
   "name": "python",
   "nbconvert_exporter": "python",
   "pygments_lexer": "ipython3",
   "version": "3.10.8"
  }
 },
 "nbformat": 4,
 "nbformat_minor": 5
}
