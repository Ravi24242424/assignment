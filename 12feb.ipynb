{
 "cells": [
  {
   "cell_type": "markdown",
   "id": "07e7e7aa-547f-4a4c-b2a8-83b7231cc208",
   "metadata": {},
   "source": [
    "Q1. What is an Exception in python? Write the difference etween Exceptions and syntax error"
   ]
  },
  {
   "cell_type": "markdown",
   "id": "db5ae5d6-760c-4da0-a7ae-66e290244871",
   "metadata": {},
   "source": [
    "Ans:- Exception is an event which is ocurs during the exceution of code which is disrupts the normal flow acording to program instruction\n",
    "exceptions can be handled but error cannot be handled . error can be syntax error  "
   ]
  },
  {
   "cell_type": "markdown",
   "id": "1c0024d0-6274-4125-bbf4-6f660a0d54fd",
   "metadata": {},
   "source": [
    "Q2. What happens when an Exception is not handled ? Explain with an example "
   ]
  },
  {
   "cell_type": "code",
   "execution_count": 15,
   "id": "77a16bb2-ff21-480d-b5e9-ae434bfb7dd4",
   "metadata": {},
   "outputs": [
    {
     "name": "stdout",
     "output_type": "stream",
     "text": [
      "division by zero\n"
     ]
    },
    {
     "data": {
      "text/plain": [
       "10"
      ]
     },
     "execution_count": 15,
     "metadata": {},
     "output_type": "execute_result"
    }
   ],
   "source": [
    "# When Exception is not handled and then we run our program and face any error then progrma will be stop on that point not excute next porgram\n",
    "# Example\n",
    "a=5\n",
    "# a/0 #error on this point \n",
    "# a+5 # not excuted\n",
    "# but when we handled exception \n",
    "try :\n",
    "    a/0\n",
    "except ZeroDivisionError as e:\n",
    "    print(e)\n",
    "a+5\n",
    "# its not stop on the point a/0 its gives an error and excute next step"
   ]
  },
  {
   "cell_type": "markdown",
   "id": "83c70e91-4bdb-477d-a603-026b65245ac8",
   "metadata": {},
   "source": [
    "Q3. Which python statement are used to catch and handle exceptions? Explain with an example"
   ]
  },
  {
   "cell_type": "code",
   "execution_count": 17,
   "id": "09659394-6850-423e-8c43-917ee08d654e",
   "metadata": {},
   "outputs": [
    {
     "name": "stdout",
     "output_type": "stream",
     "text": [
      "division by zero\n"
     ]
    },
    {
     "data": {
      "text/plain": [
       "10"
      ]
     },
     "execution_count": 17,
     "metadata": {},
     "output_type": "execute_result"
    }
   ],
   "source": [
    "# try and except statement are used to catch and handle exceptions\n",
    "#example\n",
    "try :\n",
    "    a/0\n",
    "except ZeroDivisionError as e:\n",
    "    print(e)\n",
    "a+5"
   ]
  },
  {
   "cell_type": "markdown",
   "id": "4f24947c-67f9-477b-a882-fc46f781f436",
   "metadata": {},
   "source": [
    "Q4. Explain with an example :\n",
    "    a. try and else \n",
    "    b. finaly \n",
    "    c. raise"
   ]
  },
  {
   "cell_type": "code",
   "execution_count": 3,
   "id": "1f49acb4-2b6b-45eb-ab90-e19f80b62ca1",
   "metadata": {},
   "outputs": [
    {
     "name": "stdout",
     "output_type": "stream",
     "text": [
      "this is excuted when try gives no error\n"
     ]
    }
   ],
   "source": [
    "# a  try and else\n",
    "# when we handle the Exception and put the function in the try and if try executed without error then else is execute\n",
    "# Example\n",
    "try:\n",
    "    a=0\n",
    "    a/2\n",
    "    # a/0\n",
    "except Exception as e:\n",
    "    print(e)\n",
    "else:\n",
    "    print(\"this is excuted when try gives no error\")\n",
    "    "
   ]
  },
  {
   "cell_type": "code",
   "execution_count": 1,
   "id": "fa06b78f-e2e6-4f8f-b94a-6bb0a08b6f3a",
   "metadata": {},
   "outputs": [
    {
     "name": "stdout",
     "output_type": "stream",
     "text": [
      "finally excuted\n"
     ]
    }
   ],
   "source": [
    "# b finally\n",
    "# when we need to always excute this code \n",
    "try:\n",
    "    a=0\n",
    "    a/2\n",
    "    # a/0\n",
    "except Exception as e:\n",
    "    print(e)\n",
    "finally:\n",
    "    print(\"finally excuted\")"
   ]
  },
  {
   "cell_type": "code",
   "execution_count": 13,
   "id": "a8b7ad12-cfeb-45f2-8ca7-89419a70fdf1",
   "metadata": {},
   "outputs": [
    {
     "name": "stdin",
     "output_type": "stream",
     "text": [
      "Enter your age -1\n"
     ]
    },
    {
     "name": "stdout",
     "output_type": "stream",
     "text": [
      "Age is negative please enter valid age\n"
     ]
    }
   ],
   "source": [
    "# c raise\n",
    "# raise exception is used for throw the custom error\n",
    "class age_verify(Exception):\n",
    "    def __init__(self, msg):\n",
    "        self.msg = msg\n",
    "        \n",
    "def validate_age(age):\n",
    "    age = int(age)\n",
    "    if age<0:\n",
    "        raise Exception(\"Age is negative please enter valid age\")\n",
    "    else:\n",
    "        print(\"your age is valid\")\n",
    "try:\n",
    "    age = input(\"Enter your age\")\n",
    "    validate_age(age)\n",
    "except Exception as e:\n",
    "    print(e)"
   ]
  },
  {
   "cell_type": "markdown",
   "id": "7f7196d5-cc88-41d9-bed0-7ed3f1a5dc8a",
   "metadata": {},
   "source": [
    "Q5. What are Custom Exception in python ? Why do we need custom exception? Explain with an example."
   ]
  },
  {
   "cell_type": "code",
   "execution_count": 15,
   "id": "2237373e-2d84-4e9e-8b8f-e331b81f030b",
   "metadata": {},
   "outputs": [
    {
     "name": "stdin",
     "output_type": "stream",
     "text": [
      "Enter your name 12\n"
     ]
    },
    {
     "name": "stdout",
     "output_type": "stream",
     "text": [
      "you are not eligle for voter: your age is less than 18\n"
     ]
    }
   ],
   "source": [
    "# custom exception that is porvide flexbility to make a standard class according to our code \n",
    "# we need custom exception because when we write a code in which need to write custom error .\n",
    "class voter(Exception):\n",
    "    pass\n",
    "try:\n",
    "    num = int(input(\"Enter your age\"))\n",
    "    if num<18:\n",
    "        raise voter\n",
    "    else:\n",
    "        print(\"You are eligble for voting list\")\n",
    "except voter:\n",
    "    print(\"you are not eligle for voter: your age is less than 18\")"
   ]
  },
  {
   "cell_type": "markdown",
   "id": "2e934e1c-d936-41e4-9158-89c1ba358fb2",
   "metadata": {},
   "source": [
    "Q6. Create a custom exception class. Use this class to handle an exception"
   ]
  },
  {
   "cell_type": "code",
   "execution_count": 10,
   "id": "0af0014a-d7ff-42fa-977a-74803db8fdc0",
   "metadata": {},
   "outputs": [
    {
     "name": "stdin",
     "output_type": "stream",
     "text": [
      "Enter your age 5656\n"
     ]
    },
    {
     "name": "stdout",
     "output_type": "stream",
     "text": [
      "Your age is 5656 that is very very high please enter your valid age\n"
     ]
    }
   ],
   "source": [
    "class custom(Exception):\n",
    "    \n",
    "    def __init__(self, msg):\n",
    "        self.msg = msg\n",
    "def handle(age):\n",
    "    if age < 18 :\n",
    "        raise custom(\"Your age is {} this is not for driiving\".format(age))\n",
    "    if age < 0 :\n",
    "        raise custom(\"please enter your real age\")   \n",
    "    elif age > 150:\n",
    "        raise custom(\"Your age is {} that is very very high please enter your valid age\".format(age))\n",
    "    else :\n",
    "        print(\"Your age is\", age ,\" Now you can drive\")\n",
    "try:\n",
    "    age = int(input(\"Enter your age\"))\n",
    "    handle(age)\n",
    "except custom as e:\n",
    "    print(e)"
   ]
  },
  {
   "cell_type": "code",
   "execution_count": null,
   "id": "1460d353-fbf0-4e98-8520-f2cb9310dea2",
   "metadata": {},
   "outputs": [],
   "source": []
  }
 ],
 "metadata": {
  "kernelspec": {
   "display_name": "Python 3 (ipykernel)",
   "language": "python",
   "name": "python3"
  },
  "language_info": {
   "codemirror_mode": {
    "name": "ipython",
    "version": 3
   },
   "file_extension": ".py",
   "mimetype": "text/x-python",
   "name": "python",
   "nbconvert_exporter": "python",
   "pygments_lexer": "ipython3",
   "version": "3.10.8"
  }
 },
 "nbformat": 4,
 "nbformat_minor": 5
}
