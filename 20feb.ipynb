{
 "cells": [
  {
   "cell_type": "markdown",
   "id": "e7b65bd8-11e0-4d2d-8585-ff35e117592a",
   "metadata": {},
   "source": [
    "Q1. Explain GET and POST methods."
   ]
  },
  {
   "cell_type": "markdown",
   "id": "5a291789-8acb-4283-8e12-90c4eb2938e5",
   "metadata": {},
   "source": [
    "Ans👉 GET methods is used when you type url and hit enter the browser set get request to the server and server responsd with requested resorcees\n",
    "POST methods is used when you want to submit data to the server then browser send POST request to server and submit the data "
   ]
  },
  {
   "cell_type": "markdown",
   "id": "ddba4171-32c8-40c7-816a-4bffea392e76",
   "metadata": {},
   "source": [
    "Q2. Why is request used in Flask?"
   ]
  },
  {
   "cell_type": "markdown",
   "id": "5c0c21c5-2ec6-4ecd-b151-f5f81ad607a3",
   "metadata": {},
   "source": [
    "Ans👉 request is used in Flask to allow access and manipulate the data that was submitted with the HTTP request \n",
    "if a form was submitted through post request the we can access through `request.form` and when a json data submitted with POST request the \n",
    "we access the data with `request.get_json()` "
   ]
  },
  {
   "cell_type": "markdown",
   "id": "9ef79b1d-92fa-4848-8bcc-94e7e3f496c3",
   "metadata": {},
   "source": [
    "Q3. Why is redirect() used in Flask?"
   ]
  },
  {
   "cell_type": "markdown",
   "id": "ebe48539-ecab-4749-b27f-c4494460564c",
   "metadata": {},
   "source": [
    "Ans👉 redirect()  is used in Flask for the redirect client to the different url like when we submit a form and after submission we need \n",
    "to redirct to the welcome page we use there redirect() or its also use as shorter for a specific page "
   ]
  },
  {
   "cell_type": "markdown",
   "id": "6c5e90b8-995a-4b69-b58d-0ae4fac8437d",
   "metadata": {},
   "source": [
    "Q4. What are templates in Flask? Why is the render_template() function used?"
   ]
  },
  {
   "cell_type": "markdown",
   "id": "462333f2-3080-4509-85da-ffb4118c2d2d",
   "metadata": {},
   "source": [
    "Ans👉 templates is a file that contains HTML code with the placeholders for dynamic content which is render by the Flask when client request a webpage\n",
    "render_template() function is used for the render the HTML file which can be sent to the client web browser for display with the help of this \n",
    "we can easilly manage fronted and backend process"
   ]
  },
  {
   "cell_type": "markdown",
   "id": "5333d34b-13ee-4d1b-bcce-f905a05e34e1",
   "metadata": {},
   "source": [
    "Q5. Create a simple API. Use Postman to test it. Attach the screenshot of the output in the Jupyter Notebook."
   ]
  },
  {
   "cell_type": "code",
   "execution_count": null,
   "id": "c3b29bd8-28c0-45b6-a01c-5c1a5412e205",
   "metadata": {},
   "outputs": [],
   "source": []
  }
 ],
 "metadata": {
  "kernelspec": {
   "display_name": "Python 3 (ipykernel)",
   "language": "python",
   "name": "python3"
  },
  "language_info": {
   "codemirror_mode": {
    "name": "ipython",
    "version": 3
   },
   "file_extension": ".py",
   "mimetype": "text/x-python",
   "name": "python",
   "nbconvert_exporter": "python",
   "pygments_lexer": "ipython3",
   "version": "3.10.8"
  }
 },
 "nbformat": 4,
 "nbformat_minor": 5
}
