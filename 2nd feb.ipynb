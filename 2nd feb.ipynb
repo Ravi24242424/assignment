{
 "cells": [
  {
   "cell_type": "markdown",
   "id": "e89d1ce8-a71e-4a75-b048-31bed53fa93b",
   "metadata": {},
   "source": [
    "Q1. Explain with an example each when to use a for loop and a while loop."
   ]
  },
  {
   "cell_type": "code",
   "execution_count": null,
   "id": "0ec41e2b-d289-49fe-98dd-ee29c55cec9c",
   "metadata": {},
   "outputs": [],
   "source": [
    "# use for loop when we know the number of iteration\n",
    "# Example of for loop\n",
    "for i in range(0,11):\n",
    "    print(i)\n",
    "# in this example we know the range mean no.. of iteration\n",
    "\n",
    "# we use while loop when we don't know the no.. of iteration\n",
    "# example of while loop\n",
    "counter =1\n",
    "while counter <= 10:\n",
    "    print(counter)\n",
    "    counter+=1\n",
    "# in this example we don't know the number of iteration"
   ]
  },
  {
   "cell_type": "markdown",
   "id": "1d600812-e2c7-4f07-8b1c-ad06cb5caf20",
   "metadata": {},
   "source": [
    "Q2. Write a python program to print the sum and product of the first 10 natural numbers using for\n",
    "and while loop."
   ]
  },
  {
   "cell_type": "code",
   "execution_count": 18,
   "id": "55b0966a-dfa6-461c-8f5f-56ef8a860ac8",
   "metadata": {},
   "outputs": [
    {
     "name": "stdout",
     "output_type": "stream",
     "text": [
      "sum of first 10 natural number is 55\n",
      "multiplication of first 10 natural number is 3628800\n",
      "sum of first 10 natural number using for loop is  55\n",
      "multiplication of first 10 natural number using for loop is 3628800\n"
     ]
    }
   ],
   "source": [
    "# using while loop \n",
    "n =0\n",
    "sum = 0\n",
    "multiply = 1\n",
    "while n <10:\n",
    "    n +=1\n",
    "    sum = sum + n\n",
    "    multiply = multiply*n\n",
    "print(\"sum of first 10 natural number is\", sum)\n",
    "print(\"multiplication of first 10 natural number is\", multiply)\n",
    "\n",
    "# using for loop\n",
    "sum_using_for_loop = 0\n",
    "multiplication_using_for_loop =1\n",
    "\n",
    "for i in range(1,11):\n",
    "    sum_using_for_loop = sum_using_for_loop +i\n",
    "    multiplication_using_for_loop = multiplication_using_for_loop*i\n",
    "print(\"sum of first 10 natural number using for loop is \", sum_using_for_loop)\n",
    "print(\"multiplication of first 10 natural number using for loop is\", multiplication_using_for_loop)"
   ]
  },
  {
   "cell_type": "markdown",
   "id": "12b784dd-0ed8-4ebf-a039-02b4a66e8d25",
   "metadata": {},
   "source": [
    "Q3. Create a python program to compute the electricity bill for a household.\n",
    "The per-unit charges in rupees are as follows: For the first 100 units, the user will be charged Rs. 4.5 per\n",
    "unit, for the next 100 units, the user will be charged Rs. 6 per unit, and for the next 100 units, the user will be charged Rs. 10 per unit, After 300 units and above the user will be charged Rs. 20 per unit.\n",
    "\n",
    "You are required to take the units of electricity consumed in a month from the user as input.\n",
    "\n",
    "Your program must pass this test case: when the unit of electricity consumed by the user in a month is\n",
    "310, the total electricity bill should be 2250."
   ]
  },
  {
   "cell_type": "code",
   "execution_count": 87,
   "id": "c5d18054-50da-4f09-8666-402777b6be1c",
   "metadata": {},
   "outputs": [
    {
     "name": "stdin",
     "output_type": "stream",
     "text": [
      "Enter your units of electricity consumed in a month:- 310\n"
     ]
    },
    {
     "name": "stdout",
     "output_type": "stream",
     "text": [
      "Your Total Electricty bill is 2250.0 Rs\n"
     ]
    }
   ],
   "source": [
    "unit = int(input(\"Enter your units of electricity consumed in a month:-\"))\n",
    "if unit <= 100 and unit>=0:\n",
    "    bill = unit*4.5\n",
    "    print(\"Your Total Electricty bill is\", bill,\"Rs\")\n",
    "elif unit <= 200 and unit > 100:\n",
    "    unit = unit-100\n",
    "    bill2 = bill + unit*6\n",
    "    print(\"Your Total Electricty bill is\", bill2,\"Rs\")\n",
    "elif unit <= 300 and unit > 200:\n",
    "    unit = unit -200\n",
    "    bill3 = bill2 + unit*10\n",
    "    print(\"Your Total Electricty bill is\", bill3,\"Rs\")\n",
    "elif unit>300:\n",
    "    unit = unit-300\n",
    "    bill4 =  bill3 + unit*20\n",
    "    print(\"Your Total Electricty bill is\", bill4,\"Rs\")\n",
    "else :\n",
    "    print(\"Warning:- Please enter a valid unit\")"
   ]
  },
  {
   "cell_type": "markdown",
   "id": "b6f1c4e9-77ec-43cc-9d0a-ebba9bcf6396",
   "metadata": {},
   "source": [
    "Q4. Create a list of numbers from 1 to 100. Use for loop and while loop to calculate the cube of each\n",
    "number and if the cube of that number is divisible by 4 or 5 then append that number in a list and print\n",
    "that list."
   ]
  },
  {
   "cell_type": "code",
   "execution_count": null,
   "id": "e9e76e94-74c7-44bb-a6fd-d40880f8409b",
   "metadata": {},
   "outputs": [],
   "source": [
    "counter = 1\n",
    "l2=[]\n",
    "l3=[]\n",
    "while counter <=100:\n",
    "    l2.append(counter**3)\n",
    "    counter = counter+1\n",
    "    for i in l2:\n",
    "        if i%4==0 or i%5==0:\n",
    "            l3.append(i)\n",
    "print(l3)"
   ]
  },
  {
   "cell_type": "markdown",
   "id": "b8d38172-1b23-401e-bb81-0b9ea0f03c4b",
   "metadata": {},
   "source": [
    "Q5. Write a program to filter count vowels in the below-given string.\n",
    "string = \"I want to become a data scientist\""
   ]
  },
  {
   "cell_type": "code",
   "execution_count": 49,
   "id": "9424bef6-9a8d-4cdf-99dc-32740365f5ff",
   "metadata": {},
   "outputs": [
    {
     "name": "stdout",
     "output_type": "stream",
     "text": [
      "The number of vowels in string is 12\n"
     ]
    }
   ],
   "source": [
    "string = \"I want to become a data scientist\"\n",
    "vowels = \"aeiou\"\n",
    "l=[]\n",
    "for i in string.lower():\n",
    "    for j in vowels:\n",
    "        if i == j:\n",
    "            l.append(i)\n",
    "print(\"The number of vowels in string is\",len(l))"
   ]
  },
  {
   "cell_type": "code",
   "execution_count": 45,
   "id": "ba75b628-dec5-439b-bb9c-48d664f9842a",
   "metadata": {},
   "outputs": [
    {
     "data": {
      "text/plain": [
       "['i', 'a', 'o', 'e', 'o', 'e', 'a', 'a', 'a', 'i', 'e', 'i']"
      ]
     },
     "execution_count": 45,
     "metadata": {},
     "output_type": "execute_result"
    }
   ],
   "source": []
  },
  {
   "cell_type": "code",
   "execution_count": null,
   "id": "8e38eb5a-8dd2-421c-840b-e65bc8a03b0b",
   "metadata": {},
   "outputs": [],
   "source": []
  }
 ],
 "metadata": {
  "kernelspec": {
   "display_name": "Python 3 (ipykernel)",
   "language": "python",
   "name": "python3"
  },
  "language_info": {
   "codemirror_mode": {
    "name": "ipython",
    "version": 3
   },
   "file_extension": ".py",
   "mimetype": "text/x-python",
   "name": "python",
   "nbconvert_exporter": "python",
   "pygments_lexer": "ipython3",
   "version": "3.10.8"
  }
 },
 "nbformat": 4,
 "nbformat_minor": 5
}
