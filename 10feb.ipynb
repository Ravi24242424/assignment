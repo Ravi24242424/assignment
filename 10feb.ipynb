{
 "cells": [
  {
   "cell_type": "markdown",
   "id": "9ad0a1d9-1d89-4024-8ed7-6291c9a13a5b",
   "metadata": {},
   "source": [
    "Q1. Which function is used to open a file? What are the different modes of opening a file? Explain each mode\n",
    "of file opening."
   ]
  },
  {
   "cell_type": "markdown",
   "id": "1be42fa0-42b5-46d6-a153-eb4067a6fd85",
   "metadata": {},
   "source": [
    "Ans :-\n",
    "open() function is used to open a file .\n",
    "different modes of opening a file is :-\n",
    "\n",
    "1. r - This mode is defult mode which is used for reading.\n",
    "2. w - This mode is used for writing But clean dataof the file first.\n",
    "3. x - This mode is used for create a new file and open it for writing.\n",
    "4. a - This mode is used for writing, appending to the end of the file if it exists.\n",
    "5. b - This mode is used for writng the binary type of file.\n",
    "6. t - This mode is default mode which is text mode.\n",
    "7. + - This mode is used for open a disk file for updating (reading and writing)."
   ]
  },
  {
   "cell_type": "markdown",
   "id": "2b6c8b79-65e0-4626-9ff9-7516181ae1a0",
   "metadata": {},
   "source": [
    "Q2. Why close() function is used? Why is it important to close a file?"
   ]
  },
  {
   "cell_type": "markdown",
   "id": "57670698-8758-4bfb-bd5c-c222bfc26307",
   "metadata": {},
   "source": [
    "Ans :- close() function is used for close the file which is open for writing and create it. important to close a file because after code we can create the file "
   ]
  },
  {
   "cell_type": "markdown",
   "id": "da393497-01b4-4302-bf33-1ef5b3d8d941",
   "metadata": {},
   "source": [
    "Q3. Write a python program to create a text file. Write ‘I want to become a Data Scientist’ in that file. Then\n",
    "close the file. Open this file and read the content of the file."
   ]
  },
  {
   "cell_type": "code",
   "execution_count": 21,
   "id": "4cbaf16c-e07c-4478-9014-f819b7343f84",
   "metadata": {},
   "outputs": [
    {
     "data": {
      "text/plain": [
       "'i want\\n to become\\n a data scientistI want to become a Data Scientist'"
      ]
     },
     "execution_count": 21,
     "metadata": {},
     "output_type": "execute_result"
    }
   ],
   "source": [
    "test = open(\"10feb.txt\", \"a\")\n",
    "test.write(\"I want to become a Data Scientist\")\n",
    "test.close()\n",
    "test = open(\"10feb.txt\", \"r\")\n",
    "test.read()"
   ]
  },
  {
   "cell_type": "markdown",
   "id": "bdad53a1-44e7-49b1-a623-de7d407d5f36",
   "metadata": {},
   "source": [
    "Q4. Explain the following with python code: read(), readline() and readlines()."
   ]
  },
  {
   "cell_type": "code",
   "execution_count": 18,
   "id": "be4ac546-efcc-43d3-9ce1-0672ec8cb861",
   "metadata": {},
   "outputs": [
    {
     "data": {
      "text/plain": [
       "['I want to become a Data Scientist']"
      ]
     },
     "execution_count": 18,
     "metadata": {},
     "output_type": "execute_result"
    }
   ],
   "source": [
    "test = open(\"10feb.txt\", \"r\")\n",
    "test.read()\n",
    "test.readline() # this function read file line by line\n",
    "test.readlines() # this function read file and return as list which each object is new line "
   ]
  },
  {
   "cell_type": "markdown",
   "id": "f0652ef6-0e90-47c9-a669-8458f0e57fea",
   "metadata": {},
   "source": [
    "Q5. Explain why with statement is used with open(). What is the advantage of using with statement and\n",
    "open() together?"
   ]
  },
  {
   "cell_type": "markdown",
   "id": "4486e078-063c-4d85-9c1d-eb9fdb0bfb82",
   "metadata": {},
   "source": [
    "Ans :> with statement is used with open() to open a file, advantage of using with statement is when we use this we don't need to close the file "
   ]
  },
  {
   "cell_type": "markdown",
   "id": "d3a0e5c4-86b7-4178-9913-f252124ab256",
   "metadata": {},
   "source": [
    "Q6. Explain the write() and writelines() functions. Give a suitable example."
   ]
  },
  {
   "cell_type": "code",
   "execution_count": 25,
   "id": "6e8d6d40-3884-4bab-ac08-f6a0e8d74969",
   "metadata": {},
   "outputs": [],
   "source": [
    "test = open(\"10feb.txt\", \"a\")\n",
    "test.write(\"this is inserted using write\") \n",
    "test.writelines([\"i want to become\" ,\" a data scientist\"]) # in this function inserted as a list \n",
    "test.close()"
   ]
  },
  {
   "cell_type": "code",
   "execution_count": null,
   "id": "9bf99461-44a5-4074-9398-f12713ae0c6f",
   "metadata": {},
   "outputs": [],
   "source": []
  }
 ],
 "metadata": {
  "kernelspec": {
   "display_name": "Python 3 (ipykernel)",
   "language": "python",
   "name": "python3"
  },
  "language_info": {
   "codemirror_mode": {
    "name": "ipython",
    "version": 3
   },
   "file_extension": ".py",
   "mimetype": "text/x-python",
   "name": "python",
   "nbconvert_exporter": "python",
   "pygments_lexer": "ipython3",
   "version": "3.10.8"
  }
 },
 "nbformat": 4,
 "nbformat_minor": 5
}
