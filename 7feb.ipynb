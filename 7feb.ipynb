{
 "cells": [
  {
   "cell_type": "markdown",
   "id": "5944fb13-8343-4717-8e51-4c498f62c5cd",
   "metadata": {},
   "source": [
    "Q1. You are writing code for a company. The requirement of the company is that you create a python\n",
    "function that will check whether the password entered by the user is correct or not. The function should\n",
    "take the password as input and return the string “Valid Password” if the entered password follows the\n",
    "below-given password guidelines else it should return “Invalid Password”.\n",
    "Note: \n",
    "1. The Password should contain at least two uppercase letters and at least two lowercase letters.\n",
    "2. The Password should contain at least a number and three special characters.\n",
    "3. The length of the password should be 10 characters long."
   ]
  },
  {
   "cell_type": "code",
   "execution_count": 80,
   "id": "28954fc6-5b31-4459-8146-fa1fd6855344",
   "metadata": {},
   "outputs": [],
   "source": [
    "import re\n",
    "def password_checker():\n",
    "    password = input(\"Enter your password\")\n",
    "    countupper = 0\n",
    "    countlower= 0\n",
    "    countnum=0\n",
    "    countspeccha=0\n",
    "    special_char= '[@_!#$%^&*()<>?/\\|}{~:]'\n",
    "\n",
    "    for i in password:\n",
    "            if (i.isupper()) == True:\n",
    "                countupper +=1\n",
    "            elif (i.islower())== True:\n",
    "                countlower+=1\n",
    "            elif(i.isnumeric()==True):\n",
    "                countnum+=1\n",
    "            elif(bool(re.search(special_char,password))==True):\n",
    "                countspeccha+=1\n",
    "    if len(password)>=10 and countupper>=2 and countlower>=2 and countnum>=1 and countspeccha>=3:\n",
    "        return \"Valid password\"\n",
    "    else: \n",
    "        return \"Invalid Password\""
   ]
  },
  {
   "cell_type": "code",
   "execution_count": 81,
   "id": "d11928d0-1b2d-4b1a-87a8-15368f96dc1d",
   "metadata": {},
   "outputs": [
    {
     "name": "stdin",
     "output_type": "stream",
     "text": [
      "Enter your password RR@@#hac23\n"
     ]
    },
    {
     "data": {
      "text/plain": [
       "'Valid password'"
      ]
     },
     "execution_count": 81,
     "metadata": {},
     "output_type": "execute_result"
    }
   ],
   "source": [
    "password_checker()"
   ]
  },
  {
   "cell_type": "markdown",
   "id": "fd6f2e9e-dae6-4f2e-ab76-6a75f12d02d3",
   "metadata": {},
   "source": [
    "# Q2. Solve the below-given questions using at least one of the following:\n",
    "# 1. Lambda function\n",
    "# 2. Filter function\n",
    "# 3. Map function\n",
    "# 4. List Comprehension"
   ]
  },
  {
   "cell_type": "markdown",
   "id": "80d6001d-234d-4080-86e3-d1a03c8bca2a",
   "metadata": {},
   "source": [
    "# Check if the string starts with a particular letter."
   ]
  },
  {
   "cell_type": "code",
   "execution_count": 176,
   "id": "3b76a956-0b30-4748-b554-915564337e41",
   "metadata": {},
   "outputs": [
    {
     "data": {
      "text/plain": [
       "True"
      ]
     },
     "execution_count": 176,
     "metadata": {},
     "output_type": "execute_result"
    }
   ],
   "source": [
    "strings = \"ravi\"\n",
    "check = lambda x: x.startswith(\"r\")\n",
    "check(strings)"
   ]
  },
  {
   "cell_type": "markdown",
   "id": "6b28805f-e480-4529-a3ec-a0859b1ec686",
   "metadata": {},
   "source": [
    "# Check if the string is numeric"
   ]
  },
  {
   "cell_type": "code",
   "execution_count": 179,
   "id": "085b61fb-ac84-429c-bd4e-a696451d55d2",
   "metadata": {},
   "outputs": [
    {
     "data": {
      "text/plain": [
       "True"
      ]
     },
     "execution_count": 179,
     "metadata": {},
     "output_type": "execute_result"
    }
   ],
   "source": [
    "num = \"12323\"\n",
    "num_check= lambda x : x.isnumeric()\n",
    "num_check(num)"
   ]
  },
  {
   "cell_type": "markdown",
   "id": "84e71eb9-f1e4-479d-8164-4bd56f2ce23e",
   "metadata": {},
   "source": [
    " # Sort a list of tuples having fruit names and their quantity. [(\"mango\",99),(\"orange\",80), (\"grapes\", 1000)]"
   ]
  },
  {
   "cell_type": "code",
   "execution_count": 172,
   "id": "2e9cd6a9-d324-4386-a93b-cb5237ab3a5b",
   "metadata": {},
   "outputs": [
    {
     "data": {
      "text/plain": [
       "[('orange', 80), ('mango', 99), ('grapes', 1000)]"
      ]
     },
     "execution_count": 172,
     "metadata": {},
     "output_type": "execute_result"
    }
   ],
   "source": [
    "l = [(\"mango\",99),(\"orange\",80), (\"grapes\", 1000)]\n",
    "sorted(l,key = lambda x : x[1])"
   ]
  },
  {
   "cell_type": "markdown",
   "id": "304cef4e-6351-4d0d-882c-d41b74456678",
   "metadata": {},
   "source": [
    "# Find the squares of numbers from 1 to 10"
   ]
  },
  {
   "cell_type": "code",
   "execution_count": 131,
   "id": "71bf3be2-48aa-4b6d-b282-ad48753215e0",
   "metadata": {},
   "outputs": [
    {
     "data": {
      "text/plain": [
       "[1, 4, 9, 16, 25, 36, 49, 64, 81, 100]"
      ]
     },
     "execution_count": 131,
     "metadata": {},
     "output_type": "execute_result"
    }
   ],
   "source": [
    "list(map(lambda x : x**2, range(1,11)))"
   ]
  },
  {
   "cell_type": "markdown",
   "id": "f9e5822c-adf9-44fc-9df2-73e45c7d6904",
   "metadata": {},
   "source": [
    "# Find the cube root of numbers from 1 to 10"
   ]
  },
  {
   "cell_type": "code",
   "execution_count": 139,
   "id": "e48af281-231f-4217-9940-35c91bc7e09a",
   "metadata": {},
   "outputs": [
    {
     "data": {
      "text/plain": [
       "[1.0,\n",
       " 1.2599210498948732,\n",
       " 1.4422495703074083,\n",
       " 1.5874010519681994,\n",
       " 1.7099759466766968,\n",
       " 1.8171205928321397,\n",
       " 1.912931182772389,\n",
       " 2.0,\n",
       " 2.080083823051904,\n",
       " 2.154434690031884]"
      ]
     },
     "execution_count": 139,
     "metadata": {},
     "output_type": "execute_result"
    }
   ],
   "source": [
    "import math\n",
    "list(map(lambda x : math.pow(x,1/3), range(1,11)))"
   ]
  },
  {
   "cell_type": "markdown",
   "id": "b6102a34-0afc-4bca-b785-43cb3b4e2137",
   "metadata": {},
   "source": [
    "# Check if a given number is even"
   ]
  },
  {
   "cell_type": "code",
   "execution_count": 128,
   "id": "5aa09409-9221-43c2-8309-acb133098be2",
   "metadata": {},
   "outputs": [
    {
     "data": {
      "text/plain": [
       "True"
      ]
     },
     "execution_count": 128,
     "metadata": {},
     "output_type": "execute_result"
    }
   ],
   "source": [
    "even_no = lambda x : x%2==0\n",
    "even_no(6)"
   ]
  },
  {
   "cell_type": "markdown",
   "id": "ffa5e741-daf5-4de5-abfc-af5f4e0f8551",
   "metadata": {
    "tags": []
   },
   "source": [
    "# Filter odd numbers from the given list.\n",
    "# [1,2,3,4,5,6,7,8,9,10]"
   ]
  },
  {
   "cell_type": "code",
   "execution_count": 93,
   "id": "0c1bd742-a7db-4b66-8c4a-8e29c2ea1cef",
   "metadata": {},
   "outputs": [
    {
     "data": {
      "text/plain": [
       "[1, 3, 5, 7, 9]"
      ]
     },
     "execution_count": 93,
     "metadata": {},
     "output_type": "execute_result"
    }
   ],
   "source": [
    "l= [1,2,3,4,5,6,7,8,9,10]\n",
    "list(filter(lambda x: x%2 !=0, l))"
   ]
  },
  {
   "cell_type": "markdown",
   "id": "a097a5c5-94a3-4e78-92ac-3d1e62221a44",
   "metadata": {},
   "source": [
    "# Sort a list of integers into positive and negative integers lists.\n",
    "# [1,2,3,4,5,6,-1,-2,-3,-4,-5,0]"
   ]
  },
  {
   "cell_type": "code",
   "execution_count": 120,
   "id": "0176b6a1-e9d1-4254-897b-f573147eaadd",
   "metadata": {},
   "outputs": [
    {
     "name": "stdout",
     "output_type": "stream",
     "text": [
      "p_i= [1, 2, 3, 4, 5, 6] n_i= [-1, -2, -3, -4, -5, 0]\n"
     ]
    }
   ],
   "source": [
    "l = [1,2,3,4,5,6,-1,-2,-3,-4,-5,0]\n",
    "p_i=[]\n",
    "n_i=[]\n",
    "list(filter(lambda x : p_i.append(x) if x>0  else n_i.append(x), l))\n",
    "print(\"p_i=\",p_i, \"n_i=\",n_i)"
   ]
  }
 ],
 "metadata": {
  "kernelspec": {
   "display_name": "Python 3 (ipykernel)",
   "language": "python",
   "name": "python3"
  },
  "language_info": {
   "codemirror_mode": {
    "name": "ipython",
    "version": 3
   },
   "file_extension": ".py",
   "mimetype": "text/x-python",
   "name": "python",
   "nbconvert_exporter": "python",
   "pygments_lexer": "ipython3",
   "version": "3.10.8"
  }
 },
 "nbformat": 4,
 "nbformat_minor": 5
}
