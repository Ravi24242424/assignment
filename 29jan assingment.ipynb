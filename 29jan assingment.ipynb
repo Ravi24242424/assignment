{
 "cells": [
  {
   "cell_type": "markdown",
   "id": "64f4f108-db91-411e-adf3-fc558033163a",
   "metadata": {},
   "source": [
    "1. Who developed Python Programming Language? \n",
    "Ans=> Guido van Rossum"
   ]
  },
  {
   "cell_type": "markdown",
   "id": "a77ad6cc-0b31-4ad9-b3bd-280430756169",
   "metadata": {},
   "source": [
    "2. Which type of Programming does Python support? \n",
    "Ans=> object-oriented, structured, and functional programming"
   ]
  },
  {
   "cell_type": "markdown",
   "id": "97c78eee-4abc-4fa2-b799-f7aa31b29376",
   "metadata": {},
   "source": [
    "3. Is Python case sensitive when dealing with identifiers? \n",
    "Ans=> Yes, Python is a case sensitive when dealing with indentifiers."
   ]
  },
  {
   "cell_type": "markdown",
   "id": "146e6f25-5437-4853-a5aa-29f72237d58c",
   "metadata": {},
   "source": [
    "4. What is the correct extension of the Python file? \n",
    "Ans=> \".py\" is the correct extension of the Python file."
   ]
  },
  {
   "cell_type": "markdown",
   "id": "fb94154d-316e-430a-9c91-225c1b1db3e8",
   "metadata": {},
   "source": [
    "5. Is Python code compiled or interpreted?\n",
    "Ans=> it is both, its an interpreter with a compiler because when you use the interpreter, it first compiles the source\n",
    "code into “byte code”. But if i need to give one ansewer then i will say, it is more of an interpreted language than\n",
    "a compiled language."
   ]
  },
  {
   "cell_type": "markdown",
   "id": "37937b03-ade5-4909-b918-c2e20ac50274",
   "metadata": {},
   "source": [
    "6. Name a few blocks of code used to define in Python language? \n",
    "Ans=> a module, a function body, and a class definition. Each command typed interactively is a block.\n",
    "Example:-\n",
    "        \"marks = int(input(\"enter Your marks \"))\n",
    "if marks >= 80 :\n",
    "    print(\"You will bea a part of a0 batch\")\n",
    "elif marks >= 60 and marks<80:\n",
    "    print(\"you will be a part of A1 batch\")\n",
    "elif marks >= 40 and marks < 60:\n",
    "    print(\"you will be a part of A2 batch \")\n",
    "else :\n",
    "    print(\"you will be a part of A3 batch \")\""
   ]
  },
  {
   "cell_type": "markdown",
   "id": "12024a12-dded-4ba0-aed3-4e61b2694f90",
   "metadata": {},
   "source": [
    "7. State a character used to give single-line comments in Python? \n",
    "Ans=> '#'"
   ]
  },
  {
   "cell_type": "markdown",
   "id": "5e76b5f3-5dce-4a7b-b492-6e62c1e93ea1",
   "metadata": {},
   "source": [
    "8. Mention functions which can help us to find the version of python that we are currently working on? \n",
    "Ans=> \"python --version\""
   ]
  },
  {
   "cell_type": "markdown",
   "id": "8cae3cbf-0667-49f9-897c-2fefc57b59b6",
   "metadata": {},
   "source": [
    "9. Python supports the creation of anonymous functions at runtime, using a construct called.........\n",
    "Ans=> lambda"
   ]
  },
  {
   "cell_type": "markdown",
   "id": "ea5f5b7f-6ed8-4a4d-b970-015374dabd51",
   "metadata": {},
   "source": [
    "10. What does pip stand for python? \n",
    "Ans=> pip stand for \"Preferred Installer Program\"."
   ]
  },
  {
   "cell_type": "markdown",
   "id": "b3d03527-87bd-4154-96e8-95dd04127735",
   "metadata": {},
   "source": [
    "11. Mention a few built-in functions in python? \n",
    "Ans=> type(), print(), list(), str(), input(), int() etc...."
   ]
  },
  {
   "cell_type": "markdown",
   "id": "a79262fc-2b5c-4754-95da-3ec26cf5210e",
   "metadata": {},
   "source": [
    "12. What is the maximum possible length of an identifier in Python? \n",
    "Ans=> \"79\" Python identifiers are \"unlimited\" in length, but as per PEP-8 you should limit identifier to a maximum of 79 character for better readability but there is no restriction."
   ]
  },
  {
   "cell_type": "markdown",
   "id": "a5dcab39-9892-46c5-9a0f-553ed9ecaa41",
   "metadata": {},
   "source": [
    "13. What are the benefits of using Python? \n",
    "Ans=> Best benefits of using python is it is easy to use and understand for new user and old language which used approx every field. Python contributes to increased speed and productivity even with less amount of coding. it is free and open source,\n",
    "it is easy to portablity because we can run it everywhere. and in python library is huge , we can find almost all the functions needed for our Task."
   ]
  },
  {
   "cell_type": "markdown",
   "id": "10c0e0c6-66f2-49c3-9dc6-0305ea90500a",
   "metadata": {},
   "source": [
    "14. How is memory managed in Python? \n",
    "Ans=> Memory management in Python involves a private heap containing all Python objects and data structures. The management of this private heap is ensured internally by the Python memory manager,. This private heap is taken care of by Python Interpreter itself, and a programmer doesn't have access to this private heap."
   ]
  },
  {
   "cell_type": "markdown",
   "id": "4de900c7-252d-418a-b7bb-4815d1d5e68a",
   "metadata": {},
   "source": [
    "15. How to install Python on Windows and set path variables?\n",
    "Ans=> Install python from this link https://www.python.org/downloads/\n",
    "After this, install it on your PC. Look for the location where PYTHON has been installed on your PC using the following command on your command prompt: \"cmd python\".\n",
    "Then go to advanced system settings and add new variable and name it as PYTHON_NAME and paste the copied path.\n",
    "Then look for the path variable, select it's value and select edit\n",
    "Add a semicolon towards the end of the value if it's not present and then type %PYTHON_HOME%. "
   ]
  },
  {
   "cell_type": "markdown",
   "id": "d78791ba-88b9-4618-a4cb-1e869e95b9eb",
   "metadata": {},
   "source": [
    "16. Is indentation required in python? \n",
    "Ans=> Yes"
   ]
  }
 ],
 "metadata": {
  "kernelspec": {
   "display_name": "Python 3 (ipykernel)",
   "language": "python",
   "name": "python3"
  },
  "language_info": {
   "codemirror_mode": {
    "name": "ipython",
    "version": 3
   },
   "file_extension": ".py",
   "mimetype": "text/x-python",
   "name": "python",
   "nbconvert_exporter": "python",
   "pygments_lexer": "ipython3",
   "version": "3.10.8"
  }
 },
 "nbformat": 4,
 "nbformat_minor": 5
}
