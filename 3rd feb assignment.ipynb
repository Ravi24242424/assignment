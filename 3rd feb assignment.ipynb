{
 "cells": [
  {
   "cell_type": "markdown",
   "id": "0b05414e-066c-4e36-8754-773b6a5ad602",
   "metadata": {},
   "source": [
    "Q1. Which keyword is used to create a function? Create a function to return a list of odd numbers in the\n",
    "range of 1 to 25."
   ]
  },
  {
   "cell_type": "code",
   "execution_count": 28,
   "id": "6e28a1ec-0605-46b8-845e-ef1b590acbe5",
   "metadata": {},
   "outputs": [
    {
     "data": {
      "text/plain": [
       "[1, 3, 5, 7, 9, 11, 13, 15, 17, 19, 21, 23, 25]"
      ]
     },
     "execution_count": 28,
     "metadata": {},
     "output_type": "execute_result"
    }
   ],
   "source": [
    "# def keyword is used to create a function.\n",
    "def odd_number(n):\n",
    "    l = []\n",
    "    l1 = []\n",
    "    for i in range(n+1):\n",
    "        l.append(i)\n",
    "    for i in l:\n",
    "        if i%2 !=0 :\n",
    "            l1.append(i)\n",
    "    return(l1)\n",
    "odd_number(25)"
   ]
  },
  {
   "cell_type": "markdown",
   "id": "50c67c70-79ff-4d96-aa0e-5b73596ed66d",
   "metadata": {},
   "source": [
    "Q2. Why *args and **kwargs is used in some functions? Create a function each for *args and **kwargs\n",
    "to demonstrate their use."
   ]
  },
  {
   "cell_type": "code",
   "execution_count": 3,
   "id": "9d37a2e3-6212-4d57-a4fd-00e8f93cc9c9",
   "metadata": {},
   "outputs": [
    {
     "name": "stdout",
     "output_type": "stream",
     "text": [
      "*args function result= (3, 4, 3, 43, 4)\n",
      "**kwargs function result= {'a': 'Ravi', 'b': [3, 4, 40], 'c': (4, 4, 5)}\n"
     ]
    }
   ],
   "source": [
    "\"\"\"*args and **kwargs is used for take multiple argument in some functions but *args is take argument in a form of tupples and **kawargs is take \n",
    "argument in a form of dictionary\"\"\"\n",
    "# Example \n",
    "def test(*args):\n",
    "    return args\n",
    "def test2(**kwargs):\n",
    "    return kwargs\n",
    "print(\"*args function result=\",test(3,4,3,43,4))\n",
    "print(\"**kwargs function result=\",test2(a=\"Ravi\", b = [3,4,40], c=(4,4,5)))\n",
    "\n"
   ]
  },
  {
   "cell_type": "markdown",
   "id": "e256e580-d557-4d45-b800-618882f72e53",
   "metadata": {},
   "source": [
    "Q3. What is an iterator in python? Name the method used to initialise the iterator object and the method\n",
    "used for iteration. Use these methods to print the first five elements of the given list [2, 4, 6, 8, 10, 12, 14,\n",
    "16, 18, 20]."
   ]
  },
  {
   "cell_type": "code",
   "execution_count": 4,
   "id": "2a489060-58c9-482e-8bfd-29c16f778791",
   "metadata": {},
   "outputs": [
    {
     "name": "stdout",
     "output_type": "stream",
     "text": [
      "2\n",
      "4\n",
      "6\n",
      "8\n",
      "10\n"
     ]
    }
   ],
   "source": [
    "# iterator is a built in function in python which is convert iterable object in to iterator with the help of \"iter()\" \n",
    "# iter() is a method that is initialise the iterator and the next() function is used for iteration.\n",
    "list = [2, 4, 6, 8, 10, 12, 14,16, 18, 20]\n",
    "list = iter(list)\n",
    "for i in range(5):\n",
    "    print(next(list))"
   ]
  },
  {
   "cell_type": "markdown",
   "id": "281e6999-3362-4cf8-a2e9-8952a8ca4a17",
   "metadata": {},
   "source": [
    "Q4. What is a generator function in python? Why yield keyword is used? Give an example of a generator\n",
    "function."
   ]
  },
  {
   "cell_type": "code",
   "execution_count": 39,
   "id": "6f88e2f8-d09f-4f72-8410-004450c520fb",
   "metadata": {},
   "outputs": [
    {
     "data": {
      "text/plain": [
       "(<generator object num at 0x7facc7f785f0>, generator)"
      ]
     },
     "execution_count": 39,
     "metadata": {},
     "output_type": "execute_result"
    }
   ],
   "source": [
    "# generator function is also a type of function which is gives ouput continuously its not store their result its help us to reduce the memory optmization .\n",
    "# yield keyboard is used for makes a generator functin \n",
    "# Example\n",
    "def num(n):\n",
    "    for i in range(n):\n",
    "        yield i\n",
    "num(3), type(num(3))"
   ]
  },
  {
   "cell_type": "markdown",
   "id": "cc738c66-1257-472b-8e98-0162ada0f789",
   "metadata": {},
   "source": [
    "Q5. Create a generator function for prime numbers less than 1000. Use the next() method to print the\n",
    "first 20 prime numbers."
   ]
  },
  {
   "cell_type": "code",
   "execution_count": 26,
   "id": "0f3d6b60-204d-4dc0-a47d-b6f729d24a15",
   "metadata": {
    "tags": []
   },
   "outputs": [
    {
     "name": "stdout",
     "output_type": "stream",
     "text": [
      "2\n",
      "3\n",
      "5\n",
      "7\n",
      "11\n",
      "13\n",
      "17\n",
      "19\n",
      "23\n",
      "29\n",
      "31\n",
      "37\n",
      "41\n",
      "43\n",
      "47\n",
      "53\n",
      "59\n",
      "61\n",
      "67\n",
      "71\n"
     ]
    }
   ],
   "source": [
    "def prime_numbers(n):\n",
    "    for n in range(n):\n",
    "        if n>1 and n<1000:\n",
    "            for i in range(2,n):\n",
    "                if (n % i ) == 0:\n",
    "                    break\n",
    "            else :\n",
    "                yield n\n",
    "prime= prime_numbers(1000)\n",
    "for i in range(20):\n",
    "    print(next(prime))"
   ]
  },
  {
   "cell_type": "markdown",
   "id": "f1d47218-86a6-4d6d-be72-93320b850aee",
   "metadata": {},
   "source": [
    "Q6. Write a python program to print the first 10 Fibonacci numbers using a while loop."
   ]
  },
  {
   "cell_type": "code",
   "execution_count": 1,
   "id": "03a269c9-fb62-45e6-9bb2-35278648f6e8",
   "metadata": {},
   "outputs": [
    {
     "name": "stdout",
     "output_type": "stream",
     "text": [
      "0\n",
      "1\n",
      "1\n",
      "2\n",
      "3\n",
      "5\n",
      "8\n",
      "13\n",
      "21\n",
      "34\n"
     ]
    }
   ],
   "source": [
    "counter = 0\n",
    "a,b = 0,1\n",
    "while counter<10:\n",
    "    print(a)\n",
    "    c = a+b\n",
    "    a = b\n",
    "    b = c\n",
    "    counter= counter+1"
   ]
  },
  {
   "cell_type": "markdown",
   "id": "7c786941-8627-4696-bd37-e944edea90e3",
   "metadata": {},
   "source": [
    "Q7. Write a List Comprehension to iterate through the given string: ‘pwskills’.\n",
    "Expected output: ['p', 'w', 's', 'k', 'i', 'l', 'l', 's']"
   ]
  },
  {
   "cell_type": "code",
   "execution_count": 7,
   "id": "5ec80275-4244-4b9a-b0dd-22a2c1359ce2",
   "metadata": {},
   "outputs": [
    {
     "data": {
      "text/plain": [
       "['p', 'w', 's', 'k', 'i', 'l', 'l', 's']"
      ]
     },
     "execution_count": 7,
     "metadata": {},
     "output_type": "execute_result"
    }
   ],
   "source": [
    "strings = \"pwskills\"\n",
    "[i for i in strings]"
   ]
  },
  {
   "cell_type": "markdown",
   "id": "939ccb6a-799d-4b6e-9b6c-c45378dd43bd",
   "metadata": {},
   "source": [
    "Q8. Write a python program to check whether a given number is Palindrome or not using a while loop."
   ]
  },
  {
   "cell_type": "code",
   "execution_count": 3,
   "id": "ff1b527c-5d7d-41ef-b89f-e56dc1ad3eae",
   "metadata": {},
   "outputs": [
    {
     "name": "stdout",
     "output_type": "stream",
     "text": [
      "The number is palindrome!\n"
     ]
    }
   ],
   "source": [
    "num=121\n",
    "temp=num\n",
    "rev=0\n",
    "while(num):\n",
    "    rem=num%10\n",
    "    rev=rev*10+rem\n",
    "    num=num//10\n",
    "if(temp==rev):\n",
    "    print(\"The number is palindrome!\")\n",
    "else:\n",
    "    print(\"Not a palindrome!\")"
   ]
  },
  {
   "cell_type": "markdown",
   "id": "9ad52904-471a-4f5a-ba36-86e34ed40f93",
   "metadata": {},
   "source": [
    "Q9. Write a code to print odd numbers from 1 to 100 using list comprehension."
   ]
  },
  {
   "cell_type": "code",
   "execution_count": 22,
   "id": "5dacc0f8-edf3-4f4c-bb98-b5269f374246",
   "metadata": {},
   "outputs": [
    {
     "data": {
      "text/plain": [
       "[1,\n",
       " 3,\n",
       " 5,\n",
       " 7,\n",
       " 9,\n",
       " 11,\n",
       " 13,\n",
       " 15,\n",
       " 17,\n",
       " 19,\n",
       " 21,\n",
       " 23,\n",
       " 25,\n",
       " 27,\n",
       " 29,\n",
       " 31,\n",
       " 33,\n",
       " 35,\n",
       " 37,\n",
       " 39,\n",
       " 41,\n",
       " 43,\n",
       " 45,\n",
       " 47,\n",
       " 49,\n",
       " 51,\n",
       " 53,\n",
       " 55,\n",
       " 57,\n",
       " 59,\n",
       " 61,\n",
       " 63,\n",
       " 65,\n",
       " 67,\n",
       " 69,\n",
       " 71,\n",
       " 73,\n",
       " 75,\n",
       " 77,\n",
       " 79,\n",
       " 81,\n",
       " 83,\n",
       " 85,\n",
       " 87,\n",
       " 89,\n",
       " 91,\n",
       " 93,\n",
       " 95,\n",
       " 97,\n",
       " 99]"
      ]
     },
     "execution_count": 22,
     "metadata": {},
     "output_type": "execute_result"
    }
   ],
   "source": [
    "l=[]\n",
    "[l.append(i) for i in list(range(1,101))]\n",
    "[odd for odd in l if odd%2 != 0]"
   ]
  },
  {
   "cell_type": "code",
   "execution_count": null,
   "id": "db474af5-17cb-46fb-be6f-059e1bb9908e",
   "metadata": {},
   "outputs": [],
   "source": []
  }
 ],
 "metadata": {
  "kernelspec": {
   "display_name": "Python 3 (ipykernel)",
   "language": "python",
   "name": "python3"
  },
  "language_info": {
   "codemirror_mode": {
    "name": "ipython",
    "version": 3
   },
   "file_extension": ".py",
   "mimetype": "text/x-python",
   "name": "python",
   "nbconvert_exporter": "python",
   "pygments_lexer": "ipython3",
   "version": "3.10.8"
  }
 },
 "nbformat": 4,
 "nbformat_minor": 5
}
