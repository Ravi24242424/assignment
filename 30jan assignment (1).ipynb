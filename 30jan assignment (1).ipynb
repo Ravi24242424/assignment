{
 "cells": [
  {
   "cell_type": "markdown",
   "id": "c5d3f8c1-efe7-498c-90ab-7b09b0f1545a",
   "metadata": {},
   "source": [
    "Write a program to accept percentage from the user and display the grade according to the following "
   ]
  },
  {
   "cell_type": "code",
   "execution_count": 1,
   "id": "8c7cb2ba-26d8-4eb6-91a6-def5705d445f",
   "metadata": {},
   "outputs": [
    {
     "name": "stdin",
     "output_type": "stream",
     "text": [
      "Enter Your Marks 88\n"
     ]
    },
    {
     "name": "stdout",
     "output_type": "stream",
     "text": [
      "Grade B\n"
     ]
    }
   ],
   "source": [
    "marks = int(input(\"Enter Your Marks\"))\n",
    "if marks > 90 :\n",
    "    print(\"Grade A\")\n",
    "elif marks > 80 <= 90 :\n",
    "    print(\"Grade B\")\n",
    "elif marks >= 60 <= 80 :\n",
    "    print(\"Grade C\")\n",
    "else :\n",
    "    print(\"Grade D\")"
   ]
  },
  {
   "cell_type": "markdown",
   "id": "3543009f-0eea-46f1-8307-55fdacc2c978",
   "metadata": {},
   "source": [
    "2. Write a program to accept the cost price of a bike and display the road tax to be paid according to the \n",
    "following criteria: "
   ]
  },
  {
   "cell_type": "code",
   "execution_count": 2,
   "id": "dec4fc97-7ae0-4271-8544-85265bec7917",
   "metadata": {},
   "outputs": [
    {
     "name": "stdin",
     "output_type": "stream",
     "text": [
      "Enter your cost price of bike 100\n"
     ]
    },
    {
     "name": "stdout",
     "output_type": "stream",
     "text": [
      "Your Road Tax is 5% \n"
     ]
    }
   ],
   "source": [
    "cost = int(input(\"Enter your cost price of bike\"))\n",
    "if cost > 100000 :\n",
    "    print(\"Your Road Tax is 15% \")\n",
    "elif cost > 50000 <= 100000 :\n",
    "    print(\"Your Road Tax is 10% \")\n",
    "elif cost <= 50000 :\n",
    "    print(\"Your Road Tax is 5% \")"
   ]
  },
  {
   "cell_type": "markdown",
   "id": "cf57be0c-3bd1-4141-a1a3-e07a3ea02538",
   "metadata": {},
   "source": [
    "3. Accept any city from the user and display monuments of that city."
   ]
  },
  {
   "cell_type": "code",
   "execution_count": 2,
   "id": "260763a6-01d4-4834-a67d-60471af99ca4",
   "metadata": {},
   "outputs": [
    {
     "name": "stdin",
     "output_type": "stream",
     "text": [
      "Enter your city k\n"
     ]
    },
    {
     "name": "stdout",
     "output_type": "stream",
     "text": [
      "Please Enter according to question\n"
     ]
    }
   ],
   "source": [
    "city = input(\"Enter your city\").title()\n",
    "if city ==  \"Delhi\":\n",
    "    print(\"Red Fort is Monument of\", city)\n",
    "elif city == \"Agra\" :\n",
    "    print(\"Taj Mahal is Monument of\", city)\n",
    "elif city == \"Jaipur\" :\n",
    "    print(\"Jai Mahal is Monument of\", city)\n",
    "else :\n",
    "    print(\"Please Enter according to question\")"
   ]
  },
  {
   "cell_type": "markdown",
   "id": "524d55a2-031f-44c6-9f90-bb6fdb9a3718",
   "metadata": {},
   "source": [
    "4. Check how many times a given number can be divided by 3 before it is less than or equal to 10. "
   ]
  },
  {
   "cell_type": "code",
   "execution_count": 44,
   "id": "544753bc-4c72-4886-af31-32b7bfa1fac8",
   "metadata": {},
   "outputs": [
    {
     "name": "stdin",
     "output_type": "stream",
     "text": [
      "Enter Your Number 6\n"
     ]
    },
    {
     "name": "stdout",
     "output_type": "stream",
     "text": [
      "6 is 2.0 Times divided by 3\n"
     ]
    }
   ],
   "source": [
    "number = int(input(\"Enter Your Number\"))\n",
    "if number <= 10 : \n",
    "    l = number/3\n",
    "    print(number, \"is\", l, \"Times divided by 3\")"
   ]
  },
  {
   "cell_type": "markdown",
   "id": "34347d74-4300-457f-ae31-19bea7a4df86",
   "metadata": {},
   "source": [
    "5. Why and When to Use while Loop in Python give a detailed description with example "
   ]
  },
  {
   "cell_type": "markdown",
   "id": "c9f43532-02f0-4fb6-a248-1b67541fed44",
   "metadata": {},
   "source": [
    "reason for using while loop is this loop check first condition then it go for next code and after completd it back in loop and again check condition if condition is true then excute next code its help us to excute a unknow number of iterations by checking first of their conditions.\n",
    "when we don't know the number of iterations then we use while loop "
   ]
  },
  {
   "cell_type": "markdown",
   "id": "81b34aab-dedf-4156-8da8-602c000dece7",
   "metadata": {},
   "source": [
    "6. Use nested while loop to print 3 different pattern. "
   ]
  },
  {
   "cell_type": "code",
   "execution_count": null,
   "id": "b741fc21-22ca-4476-8e95-58250afe7987",
   "metadata": {},
   "outputs": [],
   "source": [
    "starting_from = 0\n",
    "while starting_from < 4:\n",
    "    now = 0\n",
    "    starting_from += 1\n",
    "    print()\n",
    "    while now < starting_from:\n",
    "        print()\n",
    "        again = 1\n",
    "        now +=1\n",
    "        while again < starting_from :\n",
    "            again += 1\n",
    "            # print(starting_from*now*again, end=\" \")\n",
    "            print(\"*\", end= \" \")"
   ]
  },
  {
   "cell_type": "code",
   "execution_count": null,
   "id": "2130f692-c31a-4597-b5ad-c4417c6d4554",
   "metadata": {},
   "outputs": [],
   "source": []
  },
  {
   "cell_type": "markdown",
   "id": "e23d2c12-3f99-4b2d-9d76-7acce3c9905a",
   "metadata": {},
   "source": [
    "7. Reverse a while loop to display numbers from 10 to 1."
   ]
  },
  {
   "cell_type": "code",
   "execution_count": 24,
   "id": "acd0bf07-541c-4d4d-9f76-7a6b12aea2a6",
   "metadata": {},
   "outputs": [
    {
     "name": "stdout",
     "output_type": "stream",
     "text": [
      "10\n",
      "9\n",
      "8\n",
      "7\n",
      "6\n",
      "5\n",
      "4\n",
      "3\n",
      "2\n",
      "1\n"
     ]
    }
   ],
   "source": [
    "starting_from = 10\n",
    "counter = 0\n",
    "while counter < 10 :\n",
    "    numbers = starting_from - counter\n",
    "    counter =  counter + 1\n",
    "    print(numbers)"
   ]
  },
  {
   "cell_type": "markdown",
   "id": "f1772c78-1da5-4957-8c52-b889fd4df3e5",
   "metadata": {},
   "source": [
    "8. Reverse a for loop to display numbers from 10 to 1 "
   ]
  },
  {
   "cell_type": "code",
   "execution_count": 8,
   "id": "7ead5ba9-7654-44c2-92f0-54052b615aaa",
   "metadata": {},
   "outputs": [
    {
     "name": "stdout",
     "output_type": "stream",
     "text": [
      "10\n",
      "9\n",
      "8\n",
      "7\n",
      "6\n",
      "5\n",
      "4\n",
      "3\n",
      "2\n",
      "1\n"
     ]
    }
   ],
   "source": [
    "for i in range(10,0,-1):\n",
    "    print(i)"
   ]
  },
  {
   "cell_type": "code",
   "execution_count": null,
   "id": "e6a7adab-c823-4a0d-ae39-f4f321c17d66",
   "metadata": {},
   "outputs": [],
   "source": []
  },
  {
   "cell_type": "code",
   "execution_count": null,
   "id": "d6c70b46-0f04-45ea-aa1f-4bdcb970ab4a",
   "metadata": {},
   "outputs": [],
   "source": []
  },
  {
   "cell_type": "code",
   "execution_count": null,
   "id": "b029283b-9625-411f-90a6-a8e72af60a3b",
   "metadata": {},
   "outputs": [],
   "source": []
  }
 ],
 "metadata": {
  "kernelspec": {
   "display_name": "Python 3 (ipykernel)",
   "language": "python",
   "name": "python3"
  },
  "language_info": {
   "codemirror_mode": {
    "name": "ipython",
    "version": 3
   },
   "file_extension": ".py",
   "mimetype": "text/x-python",
   "name": "python",
   "nbconvert_exporter": "python",
   "pygments_lexer": "ipython3",
   "version": "3.10.8"
  }
 },
 "nbformat": 4,
 "nbformat_minor": 5
}
